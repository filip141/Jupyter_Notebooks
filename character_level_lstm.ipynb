{
 "cells": [
  {
   "cell_type": "markdown",
   "metadata": {},
   "source": [
    "Import libraries"
   ]
  },
  {
   "cell_type": "code",
   "execution_count": 1,
   "metadata": {},
   "outputs": [],
   "source": [
    "import re\n",
    "import numpy as np\n",
    "import pandas as pd\n",
    "import tensorflow as tf\n",
    "import matplotlib.pyplot as plt\n",
    "from tensorflow.contrib import rnn"
   ]
  },
  {
   "cell_type": "markdown",
   "metadata": {},
   "source": [
    "## Data preprocessing step"
   ]
  },
  {
   "cell_type": "markdown",
   "metadata": {},
   "source": [
    "Load IMDB data"
   ]
  },
  {
   "cell_type": "code",
   "execution_count": 2,
   "metadata": {},
   "outputs": [],
   "source": [
    "imbd_data = pd.read_csv(\"/home/fbach/Database/IMDB/labeledTrainData.tsv\", header=0, delimiter=\"\\t\", quoting=3)"
   ]
  },
  {
   "cell_type": "markdown",
   "metadata": {},
   "source": [
    "Make list containing all documents"
   ]
  },
  {
   "cell_type": "code",
   "execution_count": 3,
   "metadata": {},
   "outputs": [],
   "source": [
    "sentiments = []\n",
    "docs_list = []\n",
    "for comment, sentiment in zip(imbd_data.review, imbd_data.sentiment):\n",
    "    sentences = [sent.lower() for sent in comment]\n",
    "    docs_list.append(sentences)\n",
    "    sentiments.append(sentiment)"
   ]
  },
  {
   "cell_type": "markdown",
   "metadata": {},
   "source": [
    "Create list with all usefeull letters in text"
   ]
  },
  {
   "cell_type": "code",
   "execution_count": 4,
   "metadata": {},
   "outputs": [],
   "source": [
    "max_len = 1024\n",
    "letter_set = list(set(np.concatenate(docs_list)))\n",
    "char_indices = dict((c, i) for i, c in enumerate(letter_set))\n",
    "indices_char = dict((i, c) for i, c in enumerate(letter_set))"
   ]
  },
  {
   "cell_type": "markdown",
   "metadata": {},
   "source": [
    "Prepare dataset for LSTM Network"
   ]
  },
  {
   "cell_type": "code",
   "execution_count": 5,
   "metadata": {},
   "outputs": [],
   "source": [
    "def batch_iter(docs_list, sentiments, batch_len):\n",
    "    counter = 0\n",
    "    max_len = 1024\n",
    "    while True:\n",
    "        # Initialize variables\n",
    "        x = np.zeros((batch_len, max_len, len(letter_set)), dtype=np.float32)\n",
    "        y = np.zeros((batch_len, 1), dtype=np.float32)\n",
    "        \n",
    "        # Collect batch\n",
    "        for b_idx in range(0, batch_len):\n",
    "            if counter >= len(docs_list):\n",
    "                counter = 0\n",
    "            sentence = docs_list[counter]\n",
    "            for j, doc_letter in enumerate(sentence):\n",
    "                if j >= max_len:\n",
    "                    break\n",
    "                x[b_idx, j, char_indices[doc_letter]] = 1.\n",
    "            y[b_idx] = sentiments[counter]\n",
    "            counter += 1\n",
    "        yield x, y"
   ]
  },
  {
   "cell_type": "markdown",
   "metadata": {},
   "source": [
    "Show encoded sentence"
   ]
  },
  {
   "cell_type": "code",
   "execution_count": 6,
   "metadata": {},
   "outputs": [
    {
     "data": {
      "image/png": "[encoded data removed]",
      "text/plain": [
       "<matplotlib.figure.Figure at 0x7f951be7b810>"
      ]
     },
     "metadata": {},
     "output_type": "display_data"
    }
   ],
   "source": [
    "plt.imshow(next(batch_iter(docs_list, sentiments, 105), None)[0][0].transpose())\n",
    "plt.show()"
   ]
  },
  {
   "cell_type": "markdown",
   "metadata": {},
   "source": [
    "## RNN Network"
   ]
  },
  {
   "cell_type": "code",
   "execution_count": 7,
   "metadata": {},
   "outputs": [],
   "source": [
    "def RNN(x, weights, biases, timesteps):\n",
    "\n",
    "    # Prepare data shape to match `rnn` function requirements\n",
    "    # Current data input shape: (batch_size, timesteps, n_input)\n",
    "    # Required shape: 'timesteps' tensors list of shape (batch_size, n_input)\n",
    "\n",
    "    # Unstack to get a list of 'timesteps' tensors of shape (batch_size, n_input)\n",
    "    x = tf.unstack(x, timesteps, 1)\n",
    "\n",
    "    # Define a lstm cell with tensorflow\n",
    "    lstm_cell = rnn.BasicLSTMCell(num_hidden, forget_bias=1.0)\n",
    "\n",
    "    # Get lstm cell output\n",
    "    outputs, states = rnn.static_rnn(lstm_cell, x, dtype=tf.float32)\n",
    "\n",
    "    # Linear activation, using rnn inner loop last output\n",
    "    return tf.matmul(outputs[-1], weights) + biases\n",
    "\n",
    "\n",
    "num_classes = 1\n",
    "timesteps = 28\n",
    "num_hidden = 128 \n",
    "# Define weights\n",
    "weights = tf.Variable(tf.random_normal([num_hidden, num_classes]))\n",
    "biases = tf.Variable(tf.random_normal([num_classes]))"
   ]
  },
  {
   "cell_type": "code",
   "execution_count": 8,
   "metadata": {},
   "outputs": [],
   "source": [
    "x = tf.placeholder(\"float\", [None, max_len, len(letter_set)])\n",
    "y = tf.placeholder(\"float\", [None, num_classes])\n",
    "logits = RNN(x, weights, biases, max_len)\n",
    "prediction = tf.nn.sigmoid(logits)"
   ]
  },
  {
   "cell_type": "markdown",
   "metadata": {},
   "source": [
    "Define crossentropy function"
   ]
  },
  {
   "cell_type": "code",
   "execution_count": 9,
   "metadata": {},
   "outputs": [],
   "source": [
    "cross_entropy_array = tf.nn.sigmoid_cross_entropy_with_logits(logits=prediction, labels=y)\n",
    "cross_entropy = tf.reduce_mean(cross_entropy_array)"
   ]
  },
  {
   "cell_type": "code",
   "execution_count": 10,
   "metadata": {},
   "outputs": [],
   "source": [
    "prediction_cast = tf.cast(tf.greater(prediction, 0.5), tf.float32)\n",
    "is_correct = tf.equal(prediction_cast, y)\n",
    "accuracy = tf.reduce_mean(tf.cast(is_correct, tf.float32))"
   ]
  },
  {
   "cell_type": "code",
   "execution_count": 11,
   "metadata": {},
   "outputs": [],
   "source": [
    "optimizer = tf.train.RMSPropOptimizer(1e-4)\n",
    "train_step = optimizer.minimize(cross_entropy)"
   ]
  },
  {
   "cell_type": "code",
   "execution_count": 12,
   "metadata": {},
   "outputs": [],
   "source": [
    "init = tf.global_variables_initializer()\n",
    "sess = tf.Session()\n",
    "sess.run(init)"
   ]
  },
  {
   "cell_type": "code",
   "execution_count": 13,
   "metadata": {},
   "outputs": [],
   "source": [
    "divide_point = int(0.2 * len(docs_list))\n",
    "train_docs_list = docs_list[divide_point:]\n",
    "test_docs_list = docs_list[:divide_point]\n",
    "train_batch_iter = batch_iter(train_docs_list, sentiments, 128)\n",
    "test_batch_iter = batch_iter(test_docs_list, sentiments, 128)"
   ]
  },
  {
   "cell_type": "code",
   "execution_count": 14,
   "metadata": {},
   "outputs": [
    {
     "name": "stdout",
     "output_type": "stream",
     "text": [
      "Accuracy: 0.4453125 (train); 0.4453125 (test), Cross Entropy: 0.805287003517; 0.806956648827\n",
      "Accuracy: 0.46875 (train); 0.46875 (test), Cross Entropy: 0.786962509155; 0.7872787714\n",
      "Accuracy: 0.453125 (train); 0.453125 (test), Cross Entropy: 0.799682617188; 0.798949539661\n",
      "Accuracy: 0.5 (train); 0.5 (test), Cross Entropy: 0.762882709503; 0.761947214603\n",
      "Accuracy: 0.53125 (train); 0.53125 (test), Cross Entropy: 0.738685190678; 0.73952627182\n",
      "Accuracy: 0.484375 (train); 0.484375 (test), Cross Entropy: 0.777346491814; 0.776551246643\n",
      "Accuracy: 0.4921875 (train); 0.4921875 (test), Cross Entropy: 0.767173409462; 0.770222485065\n",
      "Accuracy: 0.484375 (train); 0.484375 (test), Cross Entropy: 0.775754928589; 0.774747431278\n",
      "Accuracy: 0.453125 (train); 0.453125 (test), Cross Entropy: 0.799795627594; 0.799220323563\n",
      "Accuracy: 0.5625 (train); 0.5625 (test), Cross Entropy: 0.715775966644; 0.716607272625\n",
      "Accuracy: 0.6015625 (train); 0.6015625 (test), Cross Entropy: 0.685821771622; 0.687432169914\n",
      "Accuracy: 0.515625 (train); 0.515625 (test), Cross Entropy: 0.75108063221; 0.752267599106\n",
      "Accuracy: 0.5234375 (train); 0.5234375 (test), Cross Entropy: 0.744179546833; 0.746930956841\n",
      "Accuracy: 0.4609375 (train); 0.4609375 (test), Cross Entropy: 0.793580412865; 0.793157577515\n",
      "Accuracy: 0.5078125 (train); 0.5078125 (test), Cross Entropy: 0.757276415825; 0.756897807121\n",
      "Accuracy: 0.5390625 (train); 0.5390625 (test), Cross Entropy: 0.734657764435; 0.733347952366\n",
      "Accuracy: 0.4921875 (train); 0.4921875 (test), Cross Entropy: 0.769654452801; 0.768945932388\n",
      "Accuracy: 0.453125 (train); 0.453125 (test), Cross Entropy: 0.796198248863; 0.798311114311\n",
      "Accuracy: 0.4921875 (train); 0.4921875 (test), Cross Entropy: 0.768803358078; 0.767827510834\n",
      "Accuracy: 0.46875 (train); 0.46875 (test), Cross Entropy: 0.785403370857; 0.78231292963\n",
      "Accuracy: 0.515625 (train); 0.515625 (test), Cross Entropy: 0.751698613167; 0.752591729164\n",
      "Accuracy: 0.5078125 (train); 0.5078125 (test), Cross Entropy: 0.757649958134; 0.75709426403\n",
      "Accuracy: 0.5546875 (train); 0.5546875 (test), Cross Entropy: 0.721782565117; 0.720010995865\n",
      "Accuracy: 0.4921875 (train); 0.4921875 (test), Cross Entropy: 0.768284857273; 0.768285036087\n",
      "Accuracy: 0.46875 (train); 0.46875 (test), Cross Entropy: 0.78677546978; 0.78683835268\n",
      "Accuracy: 0.515625 (train); 0.515625 (test), Cross Entropy: 0.749836027622; 0.750064492226\n",
      "Accuracy: 0.4921875 (train); 0.4921875 (test), Cross Entropy: 0.76856136322; 0.766449570656\n",
      "Accuracy: 0.5390625 (train); 0.5390625 (test), Cross Entropy: 0.732680559158; 0.733089447021\n",
      "Accuracy: 0.53125 (train); 0.53125 (test), Cross Entropy: 0.738759040833; 0.738220691681\n",
      "Accuracy: 0.484375 (train); 0.484375 (test), Cross Entropy: 0.772671878338; 0.774545788765\n",
      "Accuracy: 0.515625 (train); 0.515625 (test), Cross Entropy: 0.751204133034; 0.750189781189\n",
      "Accuracy: 0.515625 (train); 0.515625 (test), Cross Entropy: 0.752229630947; 0.750581264496\n",
      "Accuracy: 0.53125 (train); 0.53125 (test), Cross Entropy: 0.73939371109; 0.738648116589\n",
      "Accuracy: 0.4765625 (train); 0.4765625 (test), Cross Entropy: 0.779290854931; 0.777161478996\n",
      "Accuracy: 0.5703125 (train); 0.5703125 (test), Cross Entropy: 0.70821928978; 0.708065509796\n",
      "Accuracy: 0.46875 (train); 0.46875 (test), Cross Entropy: 0.784364759922; 0.785181522369\n",
      "Accuracy: 0.5078125 (train); 0.5078125 (test), Cross Entropy: 0.757661283016; 0.756635665894\n",
      "Accuracy: 0.515625 (train); 0.515625 (test), Cross Entropy: 0.750539302826; 0.751048564911\n",
      "Accuracy: 0.5 (train); 0.5 (test), Cross Entropy: 0.762463092804; 0.76264667511\n",
      "Accuracy: 0.6171875 (train); 0.453125 (test), Cross Entropy: 0.674719929695; 0.79786658287\n",
      "Accuracy: 0.546875 (train); 0.453125 (test), Cross Entropy: 0.726930499077; 0.796369850636\n",
      "Accuracy: 0.53125 (train); 0.46875 (test), Cross Entropy: 0.738228857517; 0.784078657627\n",
      "Accuracy: 0.5390625 (train); 0.4921875 (test), Cross Entropy: 0.731503903866; 0.765154242516\n",
      "Accuracy: 0.5 (train); 0.546875 (test), Cross Entropy: 0.76086473465; 0.725441813469\n",
      "Accuracy: 0.484375 (train); 0.4765625 (test), Cross Entropy: 0.771229863167; 0.779211461544\n",
      "Accuracy: 0.5234375 (train); 0.46875 (test), Cross Entropy: 0.741791307926; 0.784198641777\n",
      "Accuracy: 0.4765625 (train); 0.5078125 (test), Cross Entropy: 0.77913248539; 0.754020750523\n",
      "Accuracy: 0.5390625 (train); 0.46875 (test), Cross Entropy: 0.731639921665; 0.783476829529\n",
      "Accuracy: 0.5 (train); 0.5390625 (test), Cross Entropy: 0.761162996292; 0.731735169888\n",
      "Accuracy: 0.5234375 (train); 0.609375 (test), Cross Entropy: 0.74189722538; 0.679744362831\n",
      "Accuracy: 0.4921875 (train); 0.5 (test), Cross Entropy: 0.766448020935; 0.760095179081\n",
      "Accuracy: 0.4140625 (train); 0.546875 (test), Cross Entropy: 0.822836339474; 0.726027488708\n",
      "Accuracy: 0.5390625 (train); 0.4453125 (test), Cross Entropy: 0.732248306274; 0.798952877522\n",
      "Accuracy: 0.5546875 (train); 0.5 (test), Cross Entropy: 0.718515276909; 0.758509039879\n",
      "Accuracy: 0.453125 (train); 0.5390625 (test), Cross Entropy: 0.792746841908; 0.729322373867\n",
      "Accuracy: 0.46875 (train); 0.5 (test), Cross Entropy: 0.779738068581; 0.758227050304\n",
      "Accuracy: 0.5234375 (train); 0.453125 (test), Cross Entropy: 0.74177801609; 0.791517555714\n",
      "Accuracy: 0.4609375 (train); 0.484375 (test), Cross Entropy: 0.78529214859; 0.768086910248\n",
      "Accuracy: 0.5078125 (train); 0.484375 (test), Cross Entropy: 0.752361893654; 0.76331359148\n",
      "Accuracy: 0.5 (train); 0.515625 (test), Cross Entropy: 0.757411837578; 0.746835887432\n",
      "Accuracy: 0.6796875 (train); 0.5078125 (test), Cross Entropy: 0.627356410027; 0.751398801804\n",
      "Accuracy: 0.5234375 (train); 0.546875 (test), Cross Entropy: 0.739370703697; 0.721177041531\n",
      "Accuracy: 0.515625 (train); 0.5 (test), Cross Entropy: 0.746374726295; 0.755668282509\n",
      "Accuracy: 0.5 (train); 0.4609375 (test), Cross Entropy: 0.756761312485; 0.78547167778\n",
      "Accuracy: 0.5078125 (train); 0.5 (test), Cross Entropy: 0.747119069099; 0.754130363464\n",
      "Accuracy: 0.5078125 (train); 0.5 (test), Cross Entropy: 0.750003814697; 0.753427684307\n",
      "Accuracy: 0.4921875 (train); 0.5390625 (test), Cross Entropy: 0.761062264442; 0.726517617702\n",
      "Accuracy: 0.453125 (train); 0.5390625 (test), Cross Entropy: 0.787711620331; 0.726664185524\n",
      "Accuracy: 0.4453125 (train); 0.484375 (test), Cross Entropy: 0.791664361954; 0.765216469765\n",
      "Accuracy: 0.4921875 (train); 0.5 (test), Cross Entropy: 0.759293437004; 0.753386199474\n",
      "Accuracy: 0.5 (train); 0.5234375 (test), Cross Entropy: 0.752653181553; 0.737255513668\n",
      "Accuracy: 0.4921875 (train); 0.5234375 (test), Cross Entropy: 0.759028434753; 0.735996246338\n",
      "Accuracy: 0.4765625 (train); 0.5 (test), Cross Entropy: 0.768323302269; 0.749845504761\n",
      "Accuracy: 0.515625 (train); 0.5703125 (test), Cross Entropy: 0.738989055157; 0.701493024826\n",
      "Accuracy: 0.5 (train); 0.4609375 (test), Cross Entropy: 0.752465128899; 0.779119670391\n",
      "Accuracy: 0.5390625 (train); 0.515625 (test), Cross Entropy: 0.725142359734; 0.741763353348\n",
      "Accuracy: 0.4765625 (train); 0.5 (test), Cross Entropy: 0.76553684473; 0.75224584341\n",
      "Accuracy: 0.484375 (train); 0.5 (test), Cross Entropy: 0.761223316193; 0.751534759998\n",
      "Accuracy: 0.5625 (train); 0.4609375 (test), Cross Entropy: 0.707080960274; 0.778344333172\n",
      "Accuracy: 0.46875 (train); 0.453125 (test), Cross Entropy: 0.771142244339; 0.781818687916\n",
      "Accuracy: 0.453125 (train); 0.4609375 (test), Cross Entropy: 0.781436562538; 0.774532556534\n",
      "Accuracy: 0.4921875 (train); 0.5078125 (test), Cross Entropy: 0.754687190056; 0.741773962975\n",
      "Accuracy: 0.5625 (train); 0.546875 (test), Cross Entropy: 0.707798540592; 0.717086434364\n",
      "Accuracy: 0.53125 (train); 0.4921875 (test), Cross Entropy: 0.727367401123; 0.75422000885\n",
      "Accuracy: 0.484375 (train); 0.453125 (test), Cross Entropy: 0.760134935379; 0.779913365841\n",
      "Accuracy: 0.59375 (train); 0.484375 (test), Cross Entropy: 0.684445738792; 0.757223665714\n",
      "Accuracy: 0.515625 (train); 0.5 (test), Cross Entropy: 0.735887765884; 0.747654855251\n",
      "Accuracy: 0.546875 (train); 0.515625 (test), Cross Entropy: 0.71568107605; 0.736810326576\n",
      "Accuracy: 0.5234375 (train); 0.59375 (test), Cross Entropy: 0.732385754585; 0.685085952282\n"
     ]
    },
    {
     "ename": "KeyboardInterrupt",
     "evalue": "",
     "output_type": "error",
     "traceback": [
      "\u001b[0;31m---------------------------------------------------------------------------\u001b[0m",
      "\u001b[0;31mKeyboardInterrupt\u001b[0m                         Traceback (most recent call last)",
      "\u001b[0;32m<ipython-input-14-dd83f5177a1c>\u001b[0m in \u001b[0;36m<module>\u001b[0;34m()\u001b[0m\n\u001b[1;32m      7\u001b[0m \u001b[0;34m\u001b[0m\u001b[0m\n\u001b[1;32m      8\u001b[0m     \u001b[0;31m# Train\u001b[0m\u001b[0;34m\u001b[0m\u001b[0;34m\u001b[0m\u001b[0m\n\u001b[0;32m----> 9\u001b[0;31m     \u001b[0msess\u001b[0m\u001b[0;34m.\u001b[0m\u001b[0mrun\u001b[0m\u001b[0;34m(\u001b[0m\u001b[0mtrain_step\u001b[0m\u001b[0;34m,\u001b[0m \u001b[0mfeed_dict\u001b[0m\u001b[0;34m=\u001b[0m\u001b[0mtrain_data\u001b[0m\u001b[0;34m)\u001b[0m\u001b[0;34m\u001b[0m\u001b[0m\n\u001b[0m\u001b[1;32m     10\u001b[0m     \u001b[0ma_train\u001b[0m\u001b[0;34m,\u001b[0m \u001b[0mc_train\u001b[0m \u001b[0;34m=\u001b[0m \u001b[0msess\u001b[0m\u001b[0;34m.\u001b[0m\u001b[0mrun\u001b[0m\u001b[0;34m(\u001b[0m\u001b[0;34m[\u001b[0m\u001b[0maccuracy\u001b[0m\u001b[0;34m,\u001b[0m \u001b[0mcross_entropy\u001b[0m\u001b[0;34m]\u001b[0m\u001b[0;34m,\u001b[0m \u001b[0mfeed_dict\u001b[0m\u001b[0;34m=\u001b[0m\u001b[0mtrain_data\u001b[0m\u001b[0;34m)\u001b[0m\u001b[0;34m\u001b[0m\u001b[0m\n\u001b[1;32m     11\u001b[0m \u001b[0;34m\u001b[0m\u001b[0m\n",
      "\u001b[0;32m/home/fbach/.virtualenvs/ml_tools/local/lib/python2.7/site-packages/tensorflow/python/client/session.pyc\u001b[0m in \u001b[0;36mrun\u001b[0;34m(self, fetches, feed_dict, options, run_metadata)\u001b[0m\n\u001b[1;32m    893\u001b[0m     \u001b[0;32mtry\u001b[0m\u001b[0;34m:\u001b[0m\u001b[0;34m\u001b[0m\u001b[0m\n\u001b[1;32m    894\u001b[0m       result = self._run(None, fetches, feed_dict, options_ptr,\n\u001b[0;32m--> 895\u001b[0;31m                          run_metadata_ptr)\n\u001b[0m\u001b[1;32m    896\u001b[0m       \u001b[0;32mif\u001b[0m \u001b[0mrun_metadata\u001b[0m\u001b[0;34m:\u001b[0m\u001b[0;34m\u001b[0m\u001b[0m\n\u001b[1;32m    897\u001b[0m         \u001b[0mproto_data\u001b[0m \u001b[0;34m=\u001b[0m \u001b[0mtf_session\u001b[0m\u001b[0;34m.\u001b[0m\u001b[0mTF_GetBuffer\u001b[0m\u001b[0;34m(\u001b[0m\u001b[0mrun_metadata_ptr\u001b[0m\u001b[0;34m)\u001b[0m\u001b[0;34m\u001b[0m\u001b[0m\n",
      "\u001b[0;32m/home/fbach/.virtualenvs/ml_tools/local/lib/python2.7/site-packages/tensorflow/python/client/session.pyc\u001b[0m in \u001b[0;36m_run\u001b[0;34m(self, handle, fetches, feed_dict, options, run_metadata)\u001b[0m\n\u001b[1;32m   1126\u001b[0m     \u001b[0;32mif\u001b[0m \u001b[0mfinal_fetches\u001b[0m \u001b[0;32mor\u001b[0m \u001b[0mfinal_targets\u001b[0m \u001b[0;32mor\u001b[0m \u001b[0;34m(\u001b[0m\u001b[0mhandle\u001b[0m \u001b[0;32mand\u001b[0m \u001b[0mfeed_dict_tensor\u001b[0m\u001b[0;34m)\u001b[0m\u001b[0;34m:\u001b[0m\u001b[0;34m\u001b[0m\u001b[0m\n\u001b[1;32m   1127\u001b[0m       results = self._do_run(handle, final_targets, final_fetches,\n\u001b[0;32m-> 1128\u001b[0;31m                              feed_dict_tensor, options, run_metadata)\n\u001b[0m\u001b[1;32m   1129\u001b[0m     \u001b[0;32melse\u001b[0m\u001b[0;34m:\u001b[0m\u001b[0;34m\u001b[0m\u001b[0m\n\u001b[1;32m   1130\u001b[0m       \u001b[0mresults\u001b[0m \u001b[0;34m=\u001b[0m \u001b[0;34m[\u001b[0m\u001b[0;34m]\u001b[0m\u001b[0;34m\u001b[0m\u001b[0m\n",
      "\u001b[0;32m/home/fbach/.virtualenvs/ml_tools/local/lib/python2.7/site-packages/tensorflow/python/client/session.pyc\u001b[0m in \u001b[0;36m_do_run\u001b[0;34m(self, handle, target_list, fetch_list, feed_dict, options, run_metadata)\u001b[0m\n\u001b[1;32m   1342\u001b[0m     \u001b[0;32mif\u001b[0m \u001b[0mhandle\u001b[0m \u001b[0;32mis\u001b[0m \u001b[0mNone\u001b[0m\u001b[0;34m:\u001b[0m\u001b[0;34m\u001b[0m\u001b[0m\n\u001b[1;32m   1343\u001b[0m       return self._do_call(_run_fn, self._session, feeds, fetches, targets,\n\u001b[0;32m-> 1344\u001b[0;31m                            options, run_metadata)\n\u001b[0m\u001b[1;32m   1345\u001b[0m     \u001b[0;32melse\u001b[0m\u001b[0;34m:\u001b[0m\u001b[0;34m\u001b[0m\u001b[0m\n\u001b[1;32m   1346\u001b[0m       \u001b[0;32mreturn\u001b[0m \u001b[0mself\u001b[0m\u001b[0;34m.\u001b[0m\u001b[0m_do_call\u001b[0m\u001b[0;34m(\u001b[0m\u001b[0m_prun_fn\u001b[0m\u001b[0;34m,\u001b[0m \u001b[0mself\u001b[0m\u001b[0;34m.\u001b[0m\u001b[0m_session\u001b[0m\u001b[0;34m,\u001b[0m \u001b[0mhandle\u001b[0m\u001b[0;34m,\u001b[0m \u001b[0mfeeds\u001b[0m\u001b[0;34m,\u001b[0m \u001b[0mfetches\u001b[0m\u001b[0;34m)\u001b[0m\u001b[0;34m\u001b[0m\u001b[0m\n",
      "\u001b[0;32m/home/fbach/.virtualenvs/ml_tools/local/lib/python2.7/site-packages/tensorflow/python/client/session.pyc\u001b[0m in \u001b[0;36m_do_call\u001b[0;34m(self, fn, *args)\u001b[0m\n\u001b[1;32m   1348\u001b[0m   \u001b[0;32mdef\u001b[0m \u001b[0m_do_call\u001b[0m\u001b[0;34m(\u001b[0m\u001b[0mself\u001b[0m\u001b[0;34m,\u001b[0m \u001b[0mfn\u001b[0m\u001b[0;34m,\u001b[0m \u001b[0;34m*\u001b[0m\u001b[0margs\u001b[0m\u001b[0;34m)\u001b[0m\u001b[0;34m:\u001b[0m\u001b[0;34m\u001b[0m\u001b[0m\n\u001b[1;32m   1349\u001b[0m     \u001b[0;32mtry\u001b[0m\u001b[0;34m:\u001b[0m\u001b[0;34m\u001b[0m\u001b[0m\n\u001b[0;32m-> 1350\u001b[0;31m       \u001b[0;32mreturn\u001b[0m \u001b[0mfn\u001b[0m\u001b[0;34m(\u001b[0m\u001b[0;34m*\u001b[0m\u001b[0margs\u001b[0m\u001b[0;34m)\u001b[0m\u001b[0;34m\u001b[0m\u001b[0m\n\u001b[0m\u001b[1;32m   1351\u001b[0m     \u001b[0;32mexcept\u001b[0m \u001b[0merrors\u001b[0m\u001b[0;34m.\u001b[0m\u001b[0mOpError\u001b[0m \u001b[0;32mas\u001b[0m \u001b[0me\u001b[0m\u001b[0;34m:\u001b[0m\u001b[0;34m\u001b[0m\u001b[0m\n\u001b[1;32m   1352\u001b[0m       \u001b[0mmessage\u001b[0m \u001b[0;34m=\u001b[0m \u001b[0mcompat\u001b[0m\u001b[0;34m.\u001b[0m\u001b[0mas_text\u001b[0m\u001b[0;34m(\u001b[0m\u001b[0me\u001b[0m\u001b[0;34m.\u001b[0m\u001b[0mmessage\u001b[0m\u001b[0;34m)\u001b[0m\u001b[0;34m\u001b[0m\u001b[0m\n",
      "\u001b[0;32m/home/fbach/.virtualenvs/ml_tools/local/lib/python2.7/site-packages/tensorflow/python/client/session.pyc\u001b[0m in \u001b[0;36m_run_fn\u001b[0;34m(session, feed_dict, fetch_list, target_list, options, run_metadata)\u001b[0m\n\u001b[1;32m   1327\u001b[0m           return tf_session.TF_Run(session, options,\n\u001b[1;32m   1328\u001b[0m                                    \u001b[0mfeed_dict\u001b[0m\u001b[0;34m,\u001b[0m \u001b[0mfetch_list\u001b[0m\u001b[0;34m,\u001b[0m \u001b[0mtarget_list\u001b[0m\u001b[0;34m,\u001b[0m\u001b[0;34m\u001b[0m\u001b[0m\n\u001b[0;32m-> 1329\u001b[0;31m                                    status, run_metadata)\n\u001b[0m\u001b[1;32m   1330\u001b[0m \u001b[0;34m\u001b[0m\u001b[0m\n\u001b[1;32m   1331\u001b[0m     \u001b[0;32mdef\u001b[0m \u001b[0m_prun_fn\u001b[0m\u001b[0;34m(\u001b[0m\u001b[0msession\u001b[0m\u001b[0;34m,\u001b[0m \u001b[0mhandle\u001b[0m\u001b[0;34m,\u001b[0m \u001b[0mfeed_dict\u001b[0m\u001b[0;34m,\u001b[0m \u001b[0mfetch_list\u001b[0m\u001b[0;34m)\u001b[0m\u001b[0;34m:\u001b[0m\u001b[0;34m\u001b[0m\u001b[0m\n",
      "\u001b[0;31mKeyboardInterrupt\u001b[0m: "
     ]
    }
   ],
   "source": [
    "test_accuracy = []\n",
    "test_cross = []\n",
    "for i in range(2000):\n",
    "    # Load batch\n",
    "    batch_X, batch_Y = next(train_batch_iter, None)\n",
    "    train_data = {x: batch_X, y: batch_Y}\n",
    "\n",
    "    # Train\n",
    "    sess.run(train_step, feed_dict=train_data)\n",
    "    a_train, c_train = sess.run([accuracy, cross_entropy], feed_dict=train_data)\n",
    "\n",
    "    test_batch_x, test_batch_y = next(test_batch_iter, None)\n",
    "    test_data = {x: test_batch_x, y: test_batch_y}\n",
    "    a_test, c_test = sess.run([accuracy, cross_entropy], feed_dict=test_data)\n",
    "    print(\"Accuracy: {} (train); {} (test), Cross Entropy: {}; {}\".format(a_train, a_test, c_train, c_test))\n",
    "    \n",
    "    # Append to list\n",
    "    test_accuracy.append(a_test)\n",
    "    test_cross.append(c_test)"
   ]
  },
  {
   "cell_type": "code",
   "execution_count": null,
   "metadata": {},
   "outputs": [],
   "source": []
  }
 ],
 "metadata": {
  "kernelspec": {
   "display_name": "Python 2",
   "language": "python",
   "name": "python2"
  },
  "language_info": {
   "codemirror_mode": {
    "name": "ipython",
    "version": 2
   },
   "file_extension": ".py",
   "mimetype": "text/x-python",
   "name": "python",
   "nbconvert_exporter": "python",
   "pygments_lexer": "ipython2",
   "version": "2.7.12"
  }
 },
 "nbformat": 4,
 "nbformat_minor": 2
}
