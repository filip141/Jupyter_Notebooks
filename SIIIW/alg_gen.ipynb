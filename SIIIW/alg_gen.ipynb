{
 "cells": [
  {
   "cell_type": "markdown",
   "metadata": {},
   "source": [
    "# Laboratory 1"
   ]
  },
  {
   "cell_type": "markdown",
   "metadata": {},
   "source": [
    "Import important libraries"
   ]
  },
  {
   "cell_type": "code",
   "execution_count": 1,
   "metadata": {},
   "outputs": [],
   "source": [
    "import copy\n",
    "import random\n",
    "import numpy as np\n",
    "import matplotlib.pyplot as plt"
   ]
  },
  {
   "cell_type": "markdown",
   "metadata": {},
   "source": [
    "# Loading data"
   ]
  },
  {
   "cell_type": "markdown",
   "metadata": {},
   "source": [
    "Dataset, actualy flow and distances matrix can be found on http://anjos.mgi.polymtl.ca/qaplib/inst.html#HRW website. Data in file are saved in the following order *n_facilities, flow_matrix, distance_matrix*."
   ]
  },
  {
   "cell_type": "code",
   "execution_count": 2,
   "metadata": {},
   "outputs": [],
   "source": [
    "data_path = \"./data/had12.dat\"\n",
    "data_file = open(data_path, 'r')\n",
    "n_facilities = int(data_file.readline().lstrip().rstrip())\n",
    "data_file.close()\n",
    "\n",
    "data_matrix = np.loadtxt(data_path, skiprows=2)\n",
    "flow_matrix = data_matrix[:n_facilities]\n",
    "distance_matrix = data_matrix[n_facilities:]"
   ]
  },
  {
   "cell_type": "markdown",
   "metadata": {},
   "source": [
    "# Quadratic assigment problem"
   ]
  },
  {
   "cell_type": "markdown",
   "metadata": {},
   "source": [
    "The **quadratic assignment problem** (*QAP*) is one of the fundamental combinatorial optimization problems in the branch of optimization or operations research in mathematics, from the category of the facilities location problems.\n",
    "\n",
    "The problem models the following real-life problem:\n",
    "\n",
    "There are a **set of n facilities** and a **set of n locations**. For each pair of locations, a **distance** is specified and for each pair of facilities a **weight** or **flow** is specified (*e.g., the amount of supplies transported between the two facilities*). The problem is to *assign all facilities to different locations with the goal of minimizing the sum of the distances multiplied by the corresponding flows*.\n",
    "Intuitively, the cost function encourages factories with high flows between each other to be placed close together. <br><br>\n",
    "More infor can be found on: https://neos-guide.org/content/quadratic-assignment-problem"
   ]
  },
  {
   "cell_type": "markdown",
   "metadata": {},
   "source": [
    "**COST Function**"
   ]
  },
  {
   "cell_type": "markdown",
   "metadata": {},
   "source": [
    "![title](img/cost.png)"
   ]
  },
  {
   "cell_type": "markdown",
   "metadata": {},
   "source": [
    "# Genetic Algorithm"
   ]
  },
  {
   "cell_type": "markdown",
   "metadata": {},
   "source": [
    "## 1. Introduction"
   ]
  },
  {
   "cell_type": "markdown",
   "metadata": {},
   "source": [
    "A genetic algorithm is a search heuristic that is inspired by Charles Darwin’s theory of natural evolution. This algorithm reflects the process of natural selection where the fittest individuals are selected for reproduction in order to produce offspring of the next generation."
   ]
  },
  {
   "cell_type": "markdown",
   "metadata": {},
   "source": [
    "Popular terms in Genetic algorithm: \n",
    "* Population - set of individuals,\n",
    "* Genes - set of parameters (variables/features),\n",
    "* Chromosome - solution,"
   ]
  },
  {
   "cell_type": "markdown",
   "metadata": {},
   "source": [
    "![title](img/terms.png)"
   ]
  },
  {
   "cell_type": "markdown",
   "metadata": {},
   "source": [
    "## 2. Genetic algorithm steps\n",
    "Genetic algorithm can be described in few very important steps, each of them is derived from evolution theory. \n",
    "Whole algorithm can be implemented in following steps:<br><br>\n",
    "\n",
    "* START\n",
    "* Generate the initial population\n",
    "* Compute fitness\n",
    "* REPEAT\n",
    "    * Selection\n",
    "    * Crossover\n",
    "    * Mutation\n",
    "    * Compute fitness\n",
    "* UNTIL population has converged\n",
    "* STOP\n"
   ]
  },
  {
   "cell_type": "markdown",
   "metadata": {},
   "source": [
    "![title](img/states.png)"
   ]
  },
  {
   "cell_type": "markdown",
   "metadata": {},
   "source": [
    "### Set initial parameters"
   ]
  },
  {
   "cell_type": "markdown",
   "metadata": {},
   "source": [
    "Set initial parameters for genetic algorithm. The most important hyperparameters are population_size, crossover_proobability and mutation_probability"
   ]
  },
  {
   "cell_type": "code",
   "execution_count": 48,
   "metadata": {},
   "outputs": [],
   "source": [
    "population_size = 1000\n",
    "crossover_probability = 0.8\n",
    "mutation_probability = 0.008"
   ]
  },
  {
   "cell_type": "markdown",
   "metadata": {},
   "source": [
    "### Generate random population\n",
    "In first step Population (set of solutions is randomly generated)"
   ]
  },
  {
   "cell_type": "code",
   "execution_count": 59,
   "metadata": {},
   "outputs": [],
   "source": [
    "def generate_random_population(n_facilities, n_chromosomes):\n",
    "    population_list = []\n",
    "    for ch_idx in range(n_chromosomes):\n",
    "        rand_chromosome = list(range(0, n_facilities))\n",
    "        random.shuffle(rand_chromosome)\n",
    "        population_list.append(rand_chromosome)\n",
    "    return population_list"
   ]
  },
  {
   "cell_type": "markdown",
   "metadata": {},
   "source": [
    "### Compute fitness"
   ]
  },
  {
   "cell_type": "markdown",
   "metadata": {},
   "source": [
    "Fitness function is the most important element in implementing genetic algorithm. Best chromosomes will be choosen according to this function, so it is significant to choose it correctly. It gives a fitness score to each individual. The probability that an individual will be selected for reproduction is based on its fitness score."
   ]
  },
  {
   "cell_type": "code",
   "execution_count": 60,
   "metadata": {},
   "outputs": [
    {
     "name": "stdout",
     "output_type": "stream",
     "text": [
      "213.0\n"
     ]
    }
   ],
   "source": [
    "def fitness_score(population_list, flow_matrix, distance_matrix):\n",
    "    n_facilities = len(population_list[0])\n",
    "    fitness_scores_list = []\n",
    "    for chromosome_list in population_list: \n",
    "        chromosome_fitness = 0\n",
    "        for loc_idx_f in range(0, n_facilities):\n",
    "            fac_und_loc_f =  chromosome_list[loc_idx_f]\n",
    "            for loc_idx_s in range(0, n_facilities):\n",
    "                fac_und_loc_s =  chromosome_list[loc_idx_s]\n",
    "                ft_s = flow_matrix[fac_und_loc_f, fac_und_loc_s] * distance_matrix[loc_idx_f, loc_idx_s]\n",
    "                chromosome_fitness += ft_s\n",
    "        fitness_scores_list.append(1. / (chromosome_fitness / 2.))\n",
    "    return fitness_scores_list\n",
    "print(1. / fitness_score([[4, 3, 6, 0, 1, 2, 5]], flow_matrix, distance_matrix)[0])"
   ]
  },
  {
   "cell_type": "markdown",
   "metadata": {},
   "source": [
    "There are few requirements for fitness score, first of them tell that fitness function can't be negative and second tells that results should sum to one."
   ]
  },
  {
   "cell_type": "code",
   "execution_count": 61,
   "metadata": {},
   "outputs": [],
   "source": [
    "def normalise_fitness_score(fitness_score):\n",
    "    return np.array(fitness_score) / np.sum(fitness_score)"
   ]
  },
  {
   "cell_type": "markdown",
   "metadata": {},
   "source": [
    "### Selection"
   ]
  },
  {
   "cell_type": "markdown",
   "metadata": {},
   "source": [
    "To select the best individuals from the population, the selection method is used. In selection process few variation can be met like **roulette selection**, **tournament selection**, **elitism**. "
   ]
  },
  {
   "cell_type": "markdown",
   "metadata": {},
   "source": [
    "#### Roulette selection"
   ]
  },
  {
   "cell_type": "markdown",
   "metadata": {},
   "source": [
    "Roulette selection uses mechanism very similiar to roulette wheel in gambling. Actualy it uses cumulative distribution to select appropriate chromosomes. This method is very similiar to inverse-transform methods used for sampling in Machine Learning."
   ]
  },
  {
   "cell_type": "markdown",
   "metadata": {},
   "source": [
    "![title](img/roulette.png)"
   ]
  },
  {
   "cell_type": "code",
   "execution_count": 78,
   "metadata": {},
   "outputs": [
    {
     "name": "stdout",
     "output_type": "stream",
     "text": [
      "[7, 7, 1, 7, 7, 4, 1]\n"
     ]
    }
   ],
   "source": [
    "def roulette_selection(population_list, fitness_scores_list, elitism=True):\n",
    "    new_species = []\n",
    "    population_size = len(fitness_scores_list)\n",
    "    population_size = population_size - 1 if elitism else population_size\n",
    "    cum_sum = np.cumsum(fitness_scores_list, axis=0)\n",
    "\n",
    "    for _ in range(0, population_size):\n",
    "#         rnd = random.uniform(0, 1)\n",
    "#         # for others\n",
    "#         counter = 0\n",
    "#         while rnd >= cum_sum[counter]:\n",
    "#             counter += 1\n",
    "        new_species.append(population_list[select(fitness_scores_list)])\n",
    "#         new_species.append(population_list[counter])\n",
    "    new_species.append(population_list[np.argmax(fitness_scores_list)])\n",
    "    return new_species\n",
    "\n",
    "def select (fitnesses):\n",
    "    \"\"\"Select a value from the array fitnesses on a random number\n",
    "    based on the fitness values.\"\"\"\n",
    "    selection = random.random() * sum(fitnesses)\n",
    "\n",
    "    index = 0;\n",
    "    while selection > 0:\n",
    "        selection -= fitnesses[index]\n",
    "        index += 1\n",
    "    return index - 1\n",
    "\n",
    "print(roulette_selection([1, 2, 3, 4, 5, 6, 7], [0.4, 0, 0.05, 0.05, 0.1, 0, 0.4]))"
   ]
  },
  {
   "cell_type": "markdown",
   "metadata": {},
   "source": [
    "#### Tournament selection"
   ]
  },
  {
   "cell_type": "markdown",
   "metadata": {},
   "source": [
    "**Tournament selection** is a method of selecting an individual from a population of individuals in a genetic algorithm. Tournament selection involves **running several \"tournaments\"** among a few individuals (or \"chromosomes\") chosen at random from the population. **The winner of each tournament (the one with the best fitness) is selected for crossover**."
   ]
  },
  {
   "cell_type": "markdown",
   "metadata": {},
   "source": [
    "* Choose few individuals at random from the population (a tournament).\n",
    "* The individual with the best fitness (the winner) is selected for crossover."
   ]
  },
  {
   "cell_type": "markdown",
   "metadata": {},
   "source": [
    "![title](img/tournament.jpg)"
   ]
  },
  {
   "cell_type": "code",
   "execution_count": 53,
   "metadata": {},
   "outputs": [],
   "source": [
    "def tournament_selection(population_list, fitness_scores_list, elitism=True):\n",
    "    # Create new population\n",
    "    new_species = []\n",
    "    population_size = len(fitness_scores_list)\n",
    "    population_size = population_size - 1 if elitism else population_size\n",
    "    for _ in range(0, population_size):\n",
    "        # Take best\n",
    "        of_parent_idx = random.randint(0, len(fitness_scores_list) - 1)\n",
    "        tf_parent_idx = random.randint(0, len(fitness_scores_list) - 1)\n",
    "        if fitness_scores_list[of_parent_idx] > fitness_scores_list[tf_parent_idx]:\n",
    "            ch_winner = population_list[of_parent_idx]\n",
    "        else:\n",
    "            ch_winner = population_list[tf_parent_idx]\n",
    "        new_species.append(ch_winner)\n",
    "    if elitism:\n",
    "        new_species.append(population_list[np.argmax(fitness_scores_list)])\n",
    "    return new_species"
   ]
  },
  {
   "cell_type": "markdown",
   "metadata": {},
   "source": [
    "### Crossover"
   ]
  },
  {
   "cell_type": "markdown",
   "metadata": {},
   "source": [
    "Crossover is the most significant phase in a genetic algorithm. For each pair of parents to be mated, a crossover point is chosen at random from within the genes."
   ]
  },
  {
   "cell_type": "markdown",
   "metadata": {},
   "source": [
    "For example, consider the crossover point to be 3 as shown below."
   ]
  },
  {
   "cell_type": "markdown",
   "metadata": {},
   "source": [
    "![title](img/crossover.png)"
   ]
  },
  {
   "cell_type": "markdown",
   "metadata": {},
   "source": [
    "Offspring are created by exchanging the genes of parents among themselves until the crossover point is reached."
   ]
  },
  {
   "cell_type": "markdown",
   "metadata": {},
   "source": [
    "![title](img/corssover_2.png)"
   ]
  },
  {
   "cell_type": "markdown",
   "metadata": {},
   "source": [
    "The new offspring are added to the population."
   ]
  },
  {
   "cell_type": "markdown",
   "metadata": {},
   "source": [
    "![title](img/crossover_3.png)"
   ]
  },
  {
   "cell_type": "code",
   "execution_count": 54,
   "metadata": {},
   "outputs": [],
   "source": [
    "def chromosome_crossover(chromosome_o, chromosome_s):\n",
    "    # Random point to crossover\n",
    "    chr_o, chr_s = copy.copy(chromosome_o), copy.copy(chromosome_s)\n",
    "    pos = random.randint(0, len(chromosome_o) - 1)\n",
    "\n",
    "    # Change chromosome\n",
    "    for ch_idx in range(0, pos):\n",
    "        # values on ind\n",
    "        fac_o = chr_o[ch_idx]\n",
    "        fac_s = chr_s[ch_idx]\n",
    "        \n",
    "        # Values for swap\n",
    "        fac_os_idx = chr_o.index(fac_s)\n",
    "        fac_so_idx = chr_s.index(fac_o)\n",
    "        \n",
    "        # Save values\n",
    "        chr_o[fac_os_idx] = fac_o\n",
    "        chr_s[fac_so_idx] = fac_s\n",
    "        \n",
    "        # Change values\n",
    "        chr_o[ch_idx] = fac_s\n",
    "        chr_s[ch_idx] = fac_o\n",
    "    return chr_o, chr_s"
   ]
  },
  {
   "cell_type": "code",
   "execution_count": 55,
   "metadata": {},
   "outputs": [],
   "source": [
    "def crossover_population(new_species, crossover_probability):\n",
    "    # Select for crossover\n",
    "    species_nc = []\n",
    "    crossover_list = []\n",
    "    for n_chrom in new_species:\n",
    "        rnd = random.uniform(0, 1)\n",
    "        if rnd < crossover_probability:\n",
    "            crossover_list.append(n_chrom)\n",
    "        else:\n",
    "            species_nc.append(n_chrom)\n",
    "            \n",
    "    crossover_tuples = []    \n",
    "    # Create crossover buddies\n",
    "    cr_iterate = list(enumerate(crossover_list))\n",
    "    while cr_iterate:\n",
    "        cch_idx, c_chrom = cr_iterate.pop()\n",
    "        if not cr_iterate:\n",
    "            species_nc.append(c_chrom)\n",
    "            break\n",
    "        cb_idx, cross_buddy = random.choice(cr_iterate)\n",
    "        cr_iterate = [(x_k, x_v) for x_k, x_v in cr_iterate if x_k != cb_idx]\n",
    "        crossover_tuples.append((c_chrom, cross_buddy))\n",
    "\n",
    "    # Crossover to list\n",
    "    after_cover = []\n",
    "    for cr_tup in crossover_tuples:\n",
    "        cr_o, cr_t = chromosome_crossover(cr_tup[0], cr_tup[1])\n",
    "        after_cover.append(cr_o)\n",
    "        after_cover.append(cr_t)\n",
    "\n",
    "    # New population\n",
    "    new_species = after_cover + species_nc\n",
    "    return new_species\n",
    "# new_species = [[7, 4, 3, 2, 5, 6, 1, 8], [4, 6, 5, 2, 1, 8, 7, 3]]\n",
    "# print(crossover_population(new_species, 1.0))"
   ]
  },
  {
   "cell_type": "markdown",
   "metadata": {},
   "source": [
    "### Mutation"
   ]
  },
  {
   "cell_type": "markdown",
   "metadata": {},
   "source": [
    "Mutation is a genetic operator used to maintain genetic diversity from one generation of a population of genetic algorithm chromosomes to the next. It is analogous to biological mutation. Mutation alters one or more gene values in a chromosome from its initial state. In mutation, the solution may change entirely from the previous solution. Hence GA can come to a better solution by using mutation. Mutation occurs during evolution according to a user-definable mutation probability. This probability should be set low. If it is set too high, the search will turn into a primitive random search."
   ]
  },
  {
   "cell_type": "markdown",
   "metadata": {},
   "source": [
    "![title](img/mutation.png)"
   ]
  },
  {
   "cell_type": "markdown",
   "metadata": {},
   "source": [
    "In TSP and QAP problem mutation will have slightly different form. We will choose two genes and swap them."
   ]
  },
  {
   "cell_type": "code",
   "execution_count": 56,
   "metadata": {},
   "outputs": [],
   "source": [
    "def mutation_population(new_species, mutation_probability):\n",
    "    # # MUTATION\n",
    "    mutated = []\n",
    "    for chromosome in new_species:\n",
    "        for b_idx in range(0, len(chromosome)):\n",
    "            rnd = random.uniform(0, 1)\n",
    "            if rnd < mutation_probability:\n",
    "                swap_idx = random.randint(0, len(chromosome) - 1)\n",
    "                old_mut_val = chromosome[b_idx]\n",
    "                chromosome[b_idx] = chromosome[swap_idx]\n",
    "                chromosome[swap_idx] = old_mut_val\n",
    "        mutated.append(chromosome)\n",
    "    return mutated"
   ]
  },
  {
   "cell_type": "markdown",
   "metadata": {},
   "source": [
    "### Concatenate all steps"
   ]
  },
  {
   "cell_type": "code",
   "execution_count": 79,
   "metadata": {},
   "outputs": [
    {
     "name": "stdout",
     "output_type": "stream",
     "text": [
      "Epoch: 0, Population fitness score: 944.062913812, Max score: 861.0, Max chromosome: [3, 10, 2, 5, 7, 12, 1, 11, 8, 6, 9, 4]\n",
      "Epoch: 1, Population fitness score: 941.602964363, Max score: 864.0, Max chromosome: [4, 5, 9, 12, 7, 2, 6, 11, 1, 3, 10, 8]\n",
      "Epoch: 2, Population fitness score: 942.058123867, Max score: 870.0, Max chromosome: [8, 2, 6, 3, 7, 10, 11, 5, 1, 12, 4, 9]\n",
      "Epoch: 3, Population fitness score: 942.339107118, Max score: 867.0, Max chromosome: [9, 4, 5, 6, 11, 7, 1, 10, 8, 12, 2, 3]\n",
      "Epoch: 4, Population fitness score: 942.400515687, Max score: 863.0, Max chromosome: [10, 8, 11, 2, 12, 5, 6, 7, 3, 9, 1, 4]\n",
      "Epoch: 5, Population fitness score: 941.100899393, Max score: 858.0, Max chromosome: [4, 1, 11, 6, 7, 12, 2, 10, 9, 5, 3, 8]\n",
      "Epoch: 6, Population fitness score: 943.732102687, Max score: 857.0, Max chromosome: [4, 1, 11, 6, 7, 12, 2, 10, 9, 5, 3, 8]\n",
      "Epoch: 7, Population fitness score: 943.189016126, Max score: 861.0, Max chromosome: [8, 3, 2, 6, 4, 7, 12, 1, 5, 11, 10, 9]\n",
      "Epoch: 8, Population fitness score: 942.755771281, Max score: 868.0, Max chromosome: [3, 2, 10, 6, 12, 7, 1, 4, 11, 5, 9, 8]\n",
      "Epoch: 9, Population fitness score: 943.696745636, Max score: 864.0, Max chromosome: [8, 9, 4, 7, 5, 11, 2, 3, 1, 6, 12, 10]\n",
      "Epoch: 10, Population fitness score: 943.755362343, Max score: 867.0, Max chromosome: [9, 11, 12, 7, 1, 2, 6, 8, 4, 5, 10, 3]\n",
      "Epoch: 11, Population fitness score: 942.719451479, Max score: 870.0, Max chromosome: [10, 11, 12, 3, 5, 1, 6, 7, 2, 8, 4, 9]\n",
      "Epoch: 12, Population fitness score: 943.924696747, Max score: 867.0, Max chromosome: [2, 8, 6, 7, 10, 11, 3, 1, 12, 5, 9, 4]\n",
      "Epoch: 13, Population fitness score: 944.67261526, Max score: 865.0, Max chromosome: [3, 6, 8, 12, 2, 7, 11, 9, 10, 5, 1, 4]\n",
      "Epoch: 14, Population fitness score: 943.085634512, Max score: 868.0, Max chromosome: [8, 3, 12, 7, 2, 5, 11, 4, 10, 6, 9, 1]\n",
      "Epoch: 15, Population fitness score: 942.542063083, Max score: 860.0, Max chromosome: [4, 9, 1, 10, 7, 5, 12, 6, 8, 11, 2, 3]\n",
      "Epoch: 16, Population fitness score: 941.880596151, Max score: 856.0, Max chromosome: [8, 10, 12, 5, 2, 7, 11, 4, 3, 6, 9, 1]\n",
      "Epoch: 17, Population fitness score: 941.238097768, Max score: 855.0, Max chromosome: [7, 4, 5, 9, 1, 11, 10, 6, 8, 12, 2, 3]\n",
      "Epoch: 18, Population fitness score: 941.647619436, Max score: 853.0, Max chromosome: [8, 10, 12, 1, 5, 11, 3, 4, 6, 7, 9, 2]\n",
      "Epoch: 19, Population fitness score: 941.694658725, Max score: 865.0, Max chromosome: [7, 3, 8, 2, 9, 5, 11, 1, 10, 6, 12, 4]\n",
      "Epoch: 20, Population fitness score: 942.972277515, Max score: 862.0, Max chromosome: [3, 11, 12, 10, 5, 6, 2, 4, 8, 7, 9, 1]\n",
      "Epoch: 21, Population fitness score: 942.466760934, Max score: 858.0, Max chromosome: [8, 1, 7, 4, 5, 11, 10, 6, 9, 12, 2, 3]\n",
      "Epoch: 22, Population fitness score: 943.344430679, Max score: 866.0, Max chromosome: [4, 9, 11, 6, 7, 2, 10, 12, 8, 5, 1, 3]\n",
      "Epoch: 23, Population fitness score: 941.609123996, Max score: 866.0, Max chromosome: [4, 9, 11, 6, 7, 2, 10, 12, 8, 5, 1, 3]\n",
      "Epoch: 24, Population fitness score: 941.899951653, Max score: 864.0, Max chromosome: [8, 1, 4, 7, 5, 12, 11, 6, 9, 2, 3, 10]\n",
      "Epoch: 25, Population fitness score: 943.204117449, Max score: 880.0, Max chromosome: [8, 12, 7, 9, 5, 3, 10, 4, 2, 1, 11, 6]\n",
      "Epoch: 26, Population fitness score: 943.211434, Max score: 860.0, Max chromosome: [4, 1, 5, 6, 11, 2, 12, 8, 9, 7, 10, 3]\n",
      "Epoch: 27, Population fitness score: 943.52602139, Max score: 859.0, Max chromosome: [4, 8, 6, 1, 5, 11, 7, 10, 9, 12, 2, 3]\n",
      "Epoch: 28, Population fitness score: 942.932920007, Max score: 857.0, Max chromosome: [10, 11, 3, 12, 5, 7, 1, 2, 8, 6, 4, 9]\n",
      "Epoch: 29, Population fitness score: 942.250852886, Max score: 866.0, Max chromosome: [9, 4, 5, 10, 2, 1, 12, 7, 3, 11, 6, 8]\n",
      "Epoch: 30, Population fitness score: 942.752671203, Max score: 869.0, Max chromosome: [2, 7, 10, 12, 5, 6, 11, 8, 3, 1, 4, 9]\n",
      "Epoch: 31, Population fitness score: 943.31981484, Max score: 858.0, Max chromosome: [12, 2, 6, 7, 10, 5, 11, 8, 3, 9, 1, 4]\n",
      "Epoch: 32, Population fitness score: 942.348029916, Max score: 874.0, Max chromosome: [7, 6, 9, 2, 12, 5, 11, 1, 4, 10, 8, 3]\n",
      "Epoch: 33, Population fitness score: 942.050132754, Max score: 868.0, Max chromosome: [4, 5, 6, 9, 7, 2, 12, 8, 1, 11, 10, 3]\n",
      "Epoch: 34, Population fitness score: 943.342497671, Max score: 871.0, Max chromosome: [9, 4, 7, 1, 5, 12, 3, 6, 8, 2, 11, 10]\n",
      "Epoch: 35, Population fitness score: 942.24653148, Max score: 858.0, Max chromosome: [9, 7, 1, 8, 11, 6, 12, 2, 4, 5, 10, 3]\n",
      "Epoch: 36, Population fitness score: 942.93946442, Max score: 861.0, Max chromosome: [2, 10, 8, 5, 12, 11, 6, 7, 3, 1, 4, 9]\n",
      "Epoch: 37, Population fitness score: 941.670026256, Max score: 862.0, Max chromosome: [3, 10, 11, 12, 6, 7, 8, 1, 2, 5, 4, 9]\n",
      "Epoch: 38, Population fitness score: 942.687127214, Max score: 855.0, Max chromosome: [8, 10, 6, 11, 12, 2, 1, 7, 3, 5, 4, 9]\n",
      "Epoch: 39, Population fitness score: 941.155586846, Max score: 863.0, Max chromosome: [4, 1, 5, 11, 12, 2, 6, 7, 9, 10, 8, 3]\n",
      "Epoch: 40, Population fitness score: 942.196113564, Max score: 859.0, Max chromosome: [4, 9, 8, 1, 5, 10, 2, 6, 11, 7, 12, 3]\n",
      "Epoch: 41, Population fitness score: 941.585246255, Max score: 851.0, Max chromosome: [9, 1, 7, 4, 11, 5, 12, 6, 8, 10, 3, 2]\n",
      "Epoch: 42, Population fitness score: 942.697697107, Max score: 866.0, Max chromosome: [10, 2, 12, 6, 11, 7, 8, 4, 3, 5, 9, 1]\n",
      "Epoch: 43, Population fitness score: 942.601116156, Max score: 865.0, Max chromosome: [4, 9, 1, 11, 12, 6, 8, 7, 5, 10, 2, 3]\n",
      "Epoch: 44, Population fitness score: 943.121252767, Max score: 863.0, Max chromosome: [8, 1, 5, 9, 6, 11, 12, 10, 4, 7, 2, 3]\n",
      "Epoch: 45, Population fitness score: 943.050901489, Max score: 862.0, Max chromosome: [8, 4, 9, 7, 6, 11, 2, 12, 1, 10, 5, 3]\n",
      "Epoch: 46, Population fitness score: 942.654669342, Max score: 859.0, Max chromosome: [10, 8, 6, 11, 2, 7, 12, 5, 3, 9, 1, 4]\n",
      "Epoch: 47, Population fitness score: 942.342845291, Max score: 875.0, Max chromosome: [10, 3, 2, 5, 9, 6, 4, 11, 8, 7, 1, 12]\n",
      "Epoch: 48, Population fitness score: 942.709794, Max score: 865.0, Max chromosome: [8, 5, 10, 6, 2, 1, 11, 7, 3, 12, 4, 9]\n",
      "Epoch: 49, Population fitness score: 943.509989007, Max score: 868.0, Max chromosome: [9, 7, 1, 4, 6, 11, 12, 5, 8, 3, 10, 2]\n",
      "Epoch: 50, Population fitness score: 942.88502991, Max score: 866.0, Max chromosome: [12, 11, 9, 5, 8, 1, 7, 2, 3, 10, 6, 4]\n",
      "Epoch: 51, Population fitness score: 944.020948185, Max score: 865.0, Max chromosome: [4, 9, 11, 1, 6, 3, 2, 8, 7, 5, 12, 10]\n",
      "Epoch: 52, Population fitness score: 942.989010378, Max score: 858.0, Max chromosome: [3, 10, 12, 2, 11, 7, 1, 6, 5, 8, 4, 9]\n",
      "Epoch: 53, Population fitness score: 944.208090689, Max score: 853.0, Max chromosome: [4, 1, 5, 6, 11, 7, 12, 8, 9, 2, 10, 3]\n",
      "Epoch: 54, Population fitness score: 944.053089046, Max score: 860.0, Max chromosome: [9, 7, 4, 1, 2, 10, 5, 8, 3, 12, 11, 6]\n",
      "Epoch: 55, Population fitness score: 943.212520995, Max score: 873.0, Max chromosome: [3, 10, 11, 5, 1, 2, 8, 4, 12, 7, 6, 9]\n",
      "Epoch: 56, Population fitness score: 942.940991866, Max score: 865.0, Max chromosome: [3, 8, 12, 11, 2, 4, 7, 5, 1, 10, 9, 6]\n",
      "Epoch: 57, Population fitness score: 943.359299312, Max score: 857.0, Max chromosome: [8, 10, 11, 2, 7, 1, 12, 4, 3, 5, 9, 6]\n",
      "Epoch: 58, Population fitness score: 943.290522709, Max score: 858.0, Max chromosome: [9, 11, 6, 5, 7, 2, 8, 3, 1, 4, 10, 12]\n",
      "Epoch: 59, Population fitness score: 944.348102116, Max score: 867.0, Max chromosome: [2, 6, 7, 3, 4, 11, 5, 1, 10, 8, 12, 9]\n",
      "Epoch: 60, Population fitness score: 942.51520677, Max score: 865.0, Max chromosome: [3, 12, 8, 11, 5, 2, 6, 4, 10, 7, 1, 9]\n",
      "Epoch: 61, Population fitness score: 942.793457586, Max score: 866.0, Max chromosome: [2, 12, 10, 11, 7, 1, 5, 8, 3, 6, 4, 9]\n",
      "Epoch: 62, Population fitness score: 942.684734163, Max score: 857.0, Max chromosome: [5, 1, 4, 6, 11, 12, 7, 3, 9, 2, 10, 8]\n",
      "Epoch: 63, Population fitness score: 942.451636766, Max score: 867.0, Max chromosome: [2, 6, 7, 11, 1, 5, 12, 3, 8, 4, 9, 10]\n",
      "Epoch: 64, Population fitness score: 944.301317224, Max score: 863.0, Max chromosome: [2, 8, 7, 10, 12, 6, 11, 5, 3, 1, 9, 4]\n",
      "Epoch: 65, Population fitness score: 943.346075889, Max score: 854.0, Max chromosome: [4, 1, 6, 12, 11, 7, 10, 5, 9, 2, 3, 8]\n"
     ]
    },
    {
     "name": "stdout",
     "output_type": "stream",
     "text": [
      "Epoch: 66, Population fitness score: 943.094786647, Max score: 874.0, Max chromosome: [6, 3, 12, 11, 5, 8, 7, 4, 10, 2, 9, 1]\n",
      "Epoch: 67, Population fitness score: 942.799075546, Max score: 862.0, Max chromosome: [3, 8, 12, 7, 2, 6, 5, 10, 11, 1, 9, 4]\n",
      "Epoch: 68, Population fitness score: 943.057049201, Max score: 859.0, Max chromosome: [4, 9, 11, 1, 12, 5, 7, 6, 10, 3, 2, 8]\n",
      "Epoch: 69, Population fitness score: 943.747543268, Max score: 875.0, Max chromosome: [5, 10, 2, 3, 6, 12, 7, 11, 8, 1, 9, 4]\n",
      "Epoch: 70, Population fitness score: 943.029402631, Max score: 869.0, Max chromosome: [3, 7, 6, 2, 1, 11, 10, 5, 8, 12, 4, 9]\n",
      "Epoch: 71, Population fitness score: 941.212261551, Max score: 859.0, Max chromosome: [3, 2, 10, 8, 7, 5, 6, 11, 12, 1, 4, 9]\n",
      "Epoch: 72, Population fitness score: 942.176079536, Max score: 867.0, Max chromosome: [5, 12, 3, 9, 11, 1, 7, 2, 6, 4, 10, 8]\n",
      "Epoch: 73, Population fitness score: 943.495524588, Max score: 869.0, Max chromosome: [8, 10, 5, 6, 3, 11, 12, 1, 2, 7, 4, 9]\n",
      "Epoch: 74, Population fitness score: 942.198056865, Max score: 863.0, Max chromosome: [4, 5, 9, 12, 11, 7, 2, 10, 1, 6, 8, 3]\n",
      "Epoch: 75, Population fitness score: 942.985350949, Max score: 855.0, Max chromosome: [9, 4, 1, 7, 6, 2, 10, 12, 8, 5, 11, 3]\n",
      "Epoch: 76, Population fitness score: 942.387530797, Max score: 860.0, Max chromosome: [2, 10, 12, 6, 5, 8, 11, 1, 3, 7, 4, 9]\n",
      "Epoch: 77, Population fitness score: 942.772137883, Max score: 857.0, Max chromosome: [11, 10, 2, 12, 6, 7, 5, 4, 3, 9, 1, 8]\n",
      "Epoch: 78, Population fitness score: 943.109280649, Max score: 854.0, Max chromosome: [1, 10, 12, 8, 5, 3, 6, 2, 11, 9, 7, 4]\n",
      "Epoch: 79, Population fitness score: 942.874078141, Max score: 871.0, Max chromosome: [10, 3, 2, 5, 8, 6, 12, 1, 11, 7, 9, 4]\n",
      "Epoch: 80, Population fitness score: 942.196767736, Max score: 863.0, Max chromosome: [4, 9, 1, 2, 6, 11, 10, 7, 12, 8, 5, 3]\n",
      "Epoch: 81, Population fitness score: 942.428174244, Max score: 872.0, Max chromosome: [4, 9, 11, 6, 5, 2, 10, 12, 1, 7, 8, 3]\n",
      "Epoch: 82, Population fitness score: 943.319767696, Max score: 856.0, Max chromosome: [9, 4, 1, 7, 2, 5, 11, 10, 6, 12, 3, 8]\n",
      "Epoch: 83, Population fitness score: 943.953239173, Max score: 869.0, Max chromosome: [9, 8, 1, 6, 11, 7, 12, 2, 4, 10, 5, 3]\n",
      "Epoch: 84, Population fitness score: 942.49951711, Max score: 865.0, Max chromosome: [9, 4, 7, 11, 6, 10, 12, 1, 2, 8, 5, 3]\n",
      "Epoch: 85, Population fitness score: 941.843453794, Max score: 869.0, Max chromosome: [12, 2, 5, 10, 6, 11, 7, 8, 3, 1, 9, 4]\n",
      "Epoch: 86, Population fitness score: 943.276706469, Max score: 867.0, Max chromosome: [9, 4, 1, 7, 12, 3, 6, 11, 5, 8, 2, 10]\n",
      "Epoch: 87, Population fitness score: 942.997628117, Max score: 860.0, Max chromosome: [3, 2, 11, 12, 4, 6, 5, 1, 10, 7, 9, 8]\n",
      "Epoch: 88, Population fitness score: 941.752601887, Max score: 874.0, Max chromosome: [3, 2, 6, 8, 11, 12, 5, 1, 10, 4, 7, 9]\n",
      "Epoch: 89, Population fitness score: 943.033643119, Max score: 866.0, Max chromosome: [3, 9, 5, 12, 4, 6, 11, 7, 8, 1, 10, 2]\n",
      "Epoch: 90, Population fitness score: 943.313382969, Max score: 858.0, Max chromosome: [9, 8, 7, 6, 11, 12, 5, 1, 4, 2, 3, 10]\n",
      "Epoch: 91, Population fitness score: 944.009005633, Max score: 866.0, Max chromosome: [9, 4, 7, 11, 12, 8, 5, 6, 1, 10, 3, 2]\n",
      "Epoch: 92, Population fitness score: 941.429656138, Max score: 856.0, Max chromosome: [4, 9, 5, 1, 6, 11, 12, 8, 2, 7, 10, 3]\n",
      "Epoch: 93, Population fitness score: 942.86914565, Max score: 878.0, Max chromosome: [4, 6, 1, 7, 5, 3, 12, 2, 9, 11, 10, 8]\n",
      "Epoch: 94, Population fitness score: 943.081419519, Max score: 855.0, Max chromosome: [4, 9, 6, 7, 12, 5, 2, 8, 1, 11, 10, 3]\n",
      "Epoch: 95, Population fitness score: 942.10099896, Max score: 866.0, Max chromosome: [8, 3, 12, 7, 5, 2, 1, 11, 10, 6, 9, 4]\n",
      "Epoch: 96, Population fitness score: 944.066307437, Max score: 874.0, Max chromosome: [9, 2, 6, 4, 1, 3, 12, 11, 7, 5, 10, 8]\n",
      "Epoch: 97, Population fitness score: 944.160480088, Max score: 867.0, Max chromosome: [9, 4, 5, 10, 12, 11, 7, 1, 2, 6, 3, 8]\n",
      "Epoch: 98, Population fitness score: 944.038804058, Max score: 861.0, Max chromosome: [8, 6, 2, 11, 7, 12, 5, 9, 3, 10, 1, 4]\n",
      "Epoch: 99, Population fitness score: 943.992831511, Max score: 859.0, Max chromosome: [10, 3, 12, 2, 6, 7, 1, 5, 8, 11, 9, 4]\n",
      "Epoch: 100, Population fitness score: 943.099591078, Max score: 859.0, Max chromosome: [10, 3, 6, 1, 11, 4, 2, 5, 8, 12, 9, 7]\n",
      "Epoch: 101, Population fitness score: 941.98018629, Max score: 858.0, Max chromosome: [1, 4, 7, 6, 11, 2, 12, 10, 9, 5, 3, 8]\n",
      "Epoch: 102, Population fitness score: 942.619239654, Max score: 857.0, Max chromosome: [1, 4, 7, 6, 11, 2, 12, 10, 9, 5, 3, 8]\n",
      "Epoch: 103, Population fitness score: 942.696351115, Max score: 878.0, Max chromosome: [9, 4, 5, 1, 7, 3, 10, 11, 8, 12, 6, 2]\n",
      "Epoch: 104, Population fitness score: 943.23174142, Max score: 866.0, Max chromosome: [2, 10, 6, 3, 5, 7, 11, 12, 8, 1, 4, 9]\n",
      "Epoch: 105, Population fitness score: 943.287238306, Max score: 868.0, Max chromosome: [10, 8, 5, 2, 11, 12, 1, 7, 3, 6, 4, 9]\n",
      "Epoch: 106, Population fitness score: 943.764482888, Max score: 876.0, Max chromosome: [3, 8, 5, 10, 11, 12, 6, 7, 1, 9, 2, 4]\n",
      "Epoch: 107, Population fitness score: 943.292411651, Max score: 868.0, Max chromosome: [10, 8, 6, 9, 5, 2, 7, 11, 4, 12, 1, 3]\n",
      "Epoch: 108, Population fitness score: 944.036696202, Max score: 866.0, Max chromosome: [9, 6, 7, 4, 11, 12, 2, 3, 5, 10, 1, 8]\n",
      "Epoch: 109, Population fitness score: 943.899170433, Max score: 859.0, Max chromosome: [8, 7, 2, 3, 6, 10, 12, 1, 11, 5, 4, 9]\n",
      "Epoch: 110, Population fitness score: 942.793884596, Max score: 859.0, Max chromosome: [3, 2, 10, 12, 6, 7, 5, 8, 11, 4, 9, 1]\n",
      "Epoch: 111, Population fitness score: 943.703290015, Max score: 865.0, Max chromosome: [3, 2, 10, 12, 6, 7, 5, 8, 11, 4, 9, 1]\n",
      "Epoch: 112, Population fitness score: 942.321903131, Max score: 854.0, Max chromosome: [8, 3, 12, 10, 2, 7, 6, 5, 11, 4, 1, 9]\n",
      "Epoch: 113, Population fitness score: 942.265230974, Max score: 865.0, Max chromosome: [9, 4, 2, 1, 5, 7, 12, 6, 3, 10, 11, 8]\n",
      "Epoch: 114, Population fitness score: 942.162294646, Max score: 872.0, Max chromosome: [9, 7, 1, 3, 12, 6, 5, 10, 4, 2, 11, 8]\n",
      "Epoch: 115, Population fitness score: 941.446560091, Max score: 868.0, Max chromosome: [3, 2, 5, 10, 12, 4, 11, 6, 8, 7, 9, 1]\n",
      "Epoch: 116, Population fitness score: 943.521382789, Max score: 862.0, Max chromosome: [4, 1, 8, 9, 7, 12, 11, 6, 5, 10, 2, 3]\n",
      "Epoch: 117, Population fitness score: 944.470010379, Max score: 854.0, Max chromosome: [9, 4, 11, 7, 1, 5, 6, 10, 8, 12, 2, 3]\n",
      "Epoch: 118, Population fitness score: 944.407952612, Max score: 864.0, Max chromosome: [6, 2, 11, 10, 7, 9, 4, 3, 8, 1, 12, 5]\n",
      "Epoch: 119, Population fitness score: 943.93034946, Max score: 864.0, Max chromosome: [4, 9, 5, 6, 1, 11, 12, 2, 7, 10, 3, 8]\n",
      "Epoch: 120, Population fitness score: 944.043230164, Max score: 869.0, Max chromosome: [4, 1, 7, 9, 2, 12, 6, 5, 8, 10, 11, 3]\n",
      "Epoch: 121, Population fitness score: 943.625158789, Max score: 859.0, Max chromosome: [4, 8, 7, 1, 5, 2, 6, 11, 9, 12, 10, 3]\n",
      "Epoch: 122, Population fitness score: 942.632501751, Max score: 871.0, Max chromosome: [9, 4, 12, 6, 11, 1, 7, 10, 8, 2, 5, 3]\n",
      "Epoch: 123, Population fitness score: 942.692388947, Max score: 871.0, Max chromosome: [3, 8, 2, 1, 5, 10, 12, 11, 6, 7, 4, 9]\n",
      "Epoch: 124, Population fitness score: 943.254657951, Max score: 870.0, Max chromosome: [1, 7, 4, 2, 6, 11, 5, 3, 9, 10, 12, 8]\n",
      "Epoch: 125, Population fitness score: 943.064772173, Max score: 863.0, Max chromosome: [10, 3, 2, 11, 12, 6, 5, 9, 8, 7, 1, 4]\n",
      "Epoch: 126, Population fitness score: 944.016587337, Max score: 856.0, Max chromosome: [10, 3, 12, 2, 7, 6, 11, 5, 8, 4, 1, 9]\n",
      "Epoch: 127, Population fitness score: 942.618379031, Max score: 869.0, Max chromosome: [1, 12, 5, 2, 6, 10, 3, 7, 8, 11, 9, 4]\n",
      "Epoch: 128, Population fitness score: 943.159665655, Max score: 858.0, Max chromosome: [3, 9, 10, 12, 5, 6, 2, 7, 8, 4, 1, 11]\n",
      "Epoch: 129, Population fitness score: 942.529056051, Max score: 861.0, Max chromosome: [9, 4, 1, 12, 5, 2, 7, 11, 3, 6, 10, 8]\n"
     ]
    },
    {
     "ename": "KeyboardInterrupt",
     "evalue": "",
     "output_type": "error",
     "traceback": [
      "\u001b[0;31m---------------------------------------------------------------------------\u001b[0m",
      "\u001b[0;31mKeyboardInterrupt\u001b[0m                         Traceback (most recent call last)",
      "\u001b[0;32m<ipython-input-79-f059aa67fc1e>\u001b[0m in \u001b[0;36m<module>\u001b[0;34m()\u001b[0m\n\u001b[1;32m      3\u001b[0m     \u001b[0mfit_scores\u001b[0m \u001b[0;34m=\u001b[0m \u001b[0mfitness_score\u001b[0m\u001b[0;34m(\u001b[0m\u001b[0mpopulation_list\u001b[0m\u001b[0;34m,\u001b[0m \u001b[0mflow_matrix\u001b[0m\u001b[0;34m,\u001b[0m \u001b[0mdistance_matrix\u001b[0m\u001b[0;34m)\u001b[0m\u001b[0;34m\u001b[0m\u001b[0m\n\u001b[1;32m      4\u001b[0m     \u001b[0mfit_scores_norm\u001b[0m \u001b[0;34m=\u001b[0m \u001b[0mnormalise_fitness_score\u001b[0m\u001b[0;34m(\u001b[0m\u001b[0mfit_scores\u001b[0m\u001b[0;34m)\u001b[0m\u001b[0;34m\u001b[0m\u001b[0m\n\u001b[0;32m----> 5\u001b[0;31m     \u001b[0mselected_ch\u001b[0m \u001b[0;34m=\u001b[0m \u001b[0mroulette_selection\u001b[0m\u001b[0;34m(\u001b[0m\u001b[0mpopulation_list\u001b[0m\u001b[0;34m,\u001b[0m \u001b[0mfit_scores_norm\u001b[0m\u001b[0;34m,\u001b[0m \u001b[0melitism\u001b[0m\u001b[0;34m=\u001b[0m\u001b[0mTrue\u001b[0m\u001b[0;34m)\u001b[0m\u001b[0;34m\u001b[0m\u001b[0m\n\u001b[0m\u001b[1;32m      6\u001b[0m \u001b[0;31m#     selected_ch = tournament_selection(population_list, fit_scores_norm, elitism=True)\u001b[0m\u001b[0;34m\u001b[0m\u001b[0;34m\u001b[0m\u001b[0m\n\u001b[1;32m      7\u001b[0m     \u001b[0mcrossed_ch\u001b[0m \u001b[0;34m=\u001b[0m \u001b[0mcrossover_population\u001b[0m\u001b[0;34m(\u001b[0m\u001b[0mselected_ch\u001b[0m\u001b[0;34m,\u001b[0m \u001b[0mcrossover_probability\u001b[0m\u001b[0;34m)\u001b[0m\u001b[0;34m\u001b[0m\u001b[0m\n",
      "\u001b[0;32m<ipython-input-78-d13f70c95376>\u001b[0m in \u001b[0;36mroulette_selection\u001b[0;34m(population_list, fitness_scores_list, elitism)\u001b[0m\n\u001b[1;32m     11\u001b[0m \u001b[0;31m#         while rnd >= cum_sum[counter]:\u001b[0m\u001b[0;34m\u001b[0m\u001b[0;34m\u001b[0m\u001b[0m\n\u001b[1;32m     12\u001b[0m \u001b[0;31m#             counter += 1\u001b[0m\u001b[0;34m\u001b[0m\u001b[0;34m\u001b[0m\u001b[0m\n\u001b[0;32m---> 13\u001b[0;31m         \u001b[0mnew_species\u001b[0m\u001b[0;34m.\u001b[0m\u001b[0mappend\u001b[0m\u001b[0;34m(\u001b[0m\u001b[0mpopulation_list\u001b[0m\u001b[0;34m[\u001b[0m\u001b[0mselect\u001b[0m\u001b[0;34m(\u001b[0m\u001b[0mfitness_scores_list\u001b[0m\u001b[0;34m)\u001b[0m\u001b[0;34m]\u001b[0m\u001b[0;34m)\u001b[0m\u001b[0;34m\u001b[0m\u001b[0m\n\u001b[0m\u001b[1;32m     14\u001b[0m \u001b[0;31m#         new_species.append(population_list[counter])\u001b[0m\u001b[0;34m\u001b[0m\u001b[0;34m\u001b[0m\u001b[0m\n\u001b[1;32m     15\u001b[0m     \u001b[0mnew_species\u001b[0m\u001b[0;34m.\u001b[0m\u001b[0mappend\u001b[0m\u001b[0;34m(\u001b[0m\u001b[0mpopulation_list\u001b[0m\u001b[0;34m[\u001b[0m\u001b[0mnp\u001b[0m\u001b[0;34m.\u001b[0m\u001b[0margmax\u001b[0m\u001b[0;34m(\u001b[0m\u001b[0mfitness_scores_list\u001b[0m\u001b[0;34m)\u001b[0m\u001b[0;34m]\u001b[0m\u001b[0;34m)\u001b[0m\u001b[0;34m\u001b[0m\u001b[0m\n",
      "\u001b[0;32m<ipython-input-78-d13f70c95376>\u001b[0m in \u001b[0;36mselect\u001b[0;34m(fitnesses)\u001b[0m\n\u001b[1;32m     23\u001b[0m     \u001b[0mindex\u001b[0m \u001b[0;34m=\u001b[0m \u001b[0;36m0\u001b[0m\u001b[0;34m;\u001b[0m\u001b[0;34m\u001b[0m\u001b[0m\n\u001b[1;32m     24\u001b[0m     \u001b[0;32mwhile\u001b[0m \u001b[0mselection\u001b[0m \u001b[0;34m>\u001b[0m \u001b[0;36m0\u001b[0m\u001b[0;34m:\u001b[0m\u001b[0;34m\u001b[0m\u001b[0m\n\u001b[0;32m---> 25\u001b[0;31m         \u001b[0mselection\u001b[0m \u001b[0;34m-=\u001b[0m \u001b[0mfitnesses\u001b[0m\u001b[0;34m[\u001b[0m\u001b[0mindex\u001b[0m\u001b[0;34m]\u001b[0m\u001b[0;34m\u001b[0m\u001b[0m\n\u001b[0m\u001b[1;32m     26\u001b[0m         \u001b[0mindex\u001b[0m \u001b[0;34m+=\u001b[0m \u001b[0;36m1\u001b[0m\u001b[0;34m\u001b[0m\u001b[0m\n\u001b[1;32m     27\u001b[0m     \u001b[0;32mreturn\u001b[0m \u001b[0mindex\u001b[0m \u001b[0;34m-\u001b[0m \u001b[0;36m1\u001b[0m\u001b[0;34m\u001b[0m\u001b[0m\n",
      "\u001b[0;31mKeyboardInterrupt\u001b[0m: "
     ]
    }
   ],
   "source": [
    "population_list = generate_random_population(n_facilities, population_size)\n",
    "for epoch in range(0, 100000):\n",
    "    fit_scores = fitness_score(population_list, flow_matrix, distance_matrix)\n",
    "    fit_scores_norm = normalise_fitness_score(fit_scores)\n",
    "    selected_ch = roulette_selection(population_list, fit_scores_norm, elitism=True)\n",
    "#     selected_ch = tournament_selection(population_list, fit_scores_norm, elitism=True)\n",
    "    crossed_ch = crossover_population(selected_ch, crossover_probability)\n",
    "    mutated_ch = mutation_population(crossed_ch, mutation_probability)\n",
    "    max_fitness = np.max(fit_scores)\n",
    "    max_chromosome = [x + 1 for x in population_list[np.argmax(fit_scores)]]\n",
    "    print(\"Epoch: {}, Population fitness score: {}, Max score: {}, Max chromosome: {}\".format(epoch, 1. / np.mean(fit_scores), \n",
    "                                                                                              1. / max_fitness, max_chromosome))\n",
    "    population_list = mutated_ch"
   ]
  },
  {
   "cell_type": "code",
   "execution_count": null,
   "metadata": {},
   "outputs": [],
   "source": []
  },
  {
   "cell_type": "code",
   "execution_count": null,
   "metadata": {},
   "outputs": [],
   "source": []
  }
 ],
 "metadata": {
  "kernelspec": {
   "display_name": "Python 2",
   "language": "python",
   "name": "python2"
  },
  "language_info": {
   "codemirror_mode": {
    "name": "ipython",
    "version": 2
   },
   "file_extension": ".py",
   "mimetype": "text/x-python",
   "name": "python",
   "nbconvert_exporter": "python",
   "pygments_lexer": "ipython2",
   "version": "2.7.12"
  }
 },
 "nbformat": 4,
 "nbformat_minor": 2
}
