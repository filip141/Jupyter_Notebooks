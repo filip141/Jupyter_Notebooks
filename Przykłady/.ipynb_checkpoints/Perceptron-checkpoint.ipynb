{
 "cells": [
  {
   "cell_type": "markdown",
   "metadata": {},
   "source": [
    "# Perceptron"
   ]
  },
  {
   "cell_type": "markdown",
   "metadata": {},
   "source": [
    "Importowanie niezbędnych bibliotek"
   ]
  },
  {
   "cell_type": "code",
   "execution_count": 1,
   "metadata": {},
   "outputs": [],
   "source": [
    "import random\n",
    "import numpy as np\n",
    "import matplotlib.pyplot as plt"
   ]
  },
  {
   "cell_type": "markdown",
   "metadata": {},
   "source": [
    "Zdefiniowanie zbioru danych"
   ]
  },
  {
   "cell_type": "code",
   "execution_count": 2,
   "metadata": {},
   "outputs": [],
   "source": [
    "training_data = [\n",
    "      (np.array([0,0,1]), 0),\n",
    "      (np.array([0.2,0.2,1]), 0),\n",
    "      (np.array([0.4,0.4,1]), 0),\n",
    "      (np.array([0.4,0.2,1]), 0),\n",
    "      (np.array([0.2,0.4,1]), 0),\n",
    "      (np.array([0,1,1]), 0),\n",
    "      (np.array([1,0,1]), 0),\n",
    "      (np.array([1.2,1.2,1]), 1),\n",
    "      (np.array([1.4,1.4,1]), 1),\n",
    "      (np.array([1.4,1.2,1]), 1),\n",
    "      (np.array([1.2,1.4,1]), 1),\n",
    "      (np.array([1,1,1]), 1),\n",
    "      (np.array([1.1,1.1,1]), 1),\n",
    "]"
   ]
  },
  {
   "cell_type": "markdown",
   "metadata": {},
   "source": [
    "## 1.1 Teoria"
   ]
  },
  {
   "cell_type": "markdown",
   "metadata": {},
   "source": [
    "**Perceptron** – najprostsza sieć neuronowa, składająca się z jednego bądź wielu niezależnych neuronów McCullocha-Pittsa, implementująca algorytm uczenia nadzorowanego klasyfikatorów binarnych. Perceptron jest funkcją, która potrafi określić przynależność parametrów wejściowych do jednej z dwóch klas. Może być wykorzystywany tylko do klasyfikowania zbiorów liniowo separowalnych. "
   ]
  },
  {
   "cell_type": "markdown",
   "metadata": {},
   "source": [
    "![title](imgs/perceptron-picture.png)"
   ]
  },
  {
   "cell_type": "markdown",
   "metadata": {},
   "source": [
    "Schemat ten możemy również przedstawić jako zwykłe mnożenie macierzy. "
   ]
  },
  {
   "cell_type": "markdown",
   "metadata": {},
   "source": [
    "![title](imgs/perceptron_matrix.png)"
   ]
  },
  {
   "cell_type": "markdown",
   "metadata": {},
   "source": [
    "**Funkcja aktywacji jako funkcja sigmoidalna**"
   ]
  },
  {
   "cell_type": "markdown",
   "metadata": {},
   "source": [
    "Aby otrzymać wartość funkcji reprezentującą **przynależność do klasy 0 bądź 1** stosujemy funkcję sigmoidalną."
   ]
  },
  {
   "cell_type": "markdown",
   "metadata": {},
   "source": [
    "![title](imgs/sigmoid.png)"
   ]
  },
  {
   "cell_type": "code",
   "execution_count": 3,
   "metadata": {},
   "outputs": [],
   "source": [
    "def sigmoid(x):\n",
    "    return 1 / (1 + np.exp(-x))"
   ]
  },
  {
   "cell_type": "markdown",
   "metadata": {},
   "source": [
    "**Definiujemy wartości**"
   ]
  },
  {
   "cell_type": "markdown",
   "metadata": {},
   "source": [
    "Inicjalizujemy wagi losowymi wartościami z rozkładu jednorodnego."
   ]
  },
  {
   "cell_type": "code",
   "execution_count": 9,
   "metadata": {},
   "outputs": [],
   "source": [
    "w = np.random.uniform(0, 1, size=(3,)).transpose()\n",
    "errors = []\n",
    "eta = 0.01\n",
    "n = 100000"
   ]
  },
  {
   "cell_type": "markdown",
   "metadata": {},
   "source": [
    "## 1.2 Uczenie algorytmu"
   ]
  },
  {
   "cell_type": "markdown",
   "metadata": {},
   "source": [
    "### 1.2.1 Kroki uczenia algorytmu"
   ]
  },
  {
   "cell_type": "markdown",
   "metadata": {},
   "source": [
    "<font color='red'>**Uczenie sieci neuronowej zawsze odbywa się w dwóch krokach:**<br><br>\n",
    "1. Pierwszy krok, **forward** - uzyskanie wyniku,<br>\n",
    "2. Drugi krok, **backward** - obliczenie błędu oraz zredukowanie go. <br></font>"
   ]
  },
  {
   "cell_type": "markdown",
   "metadata": {},
   "source": [
    "Do uczenia modelu poprawnej klasyfikacji objektów wykorzystuję się algorytm o nazwię **Delta rule** jest to algorytm oparty o *przeszukiwanie gradientowe* (*Gradient descent*), który polega na redukowaniu błędu algorytu poprzez odejmowaniu od wag ich gradientu błędu"
   ]
  },
  {
   "cell_type": "markdown",
   "metadata": {},
   "source": [
    "![title](imgs/gd.png)"
   ]
  },
  {
   "cell_type": "markdown",
   "metadata": {},
   "source": [
    "**Dlaczego taka metoda sprawdza się najlepiej ?** <br>\n",
    "Ponieważ \"poprawiamy\" błąd, który pochodzi od każdej z wag"
   ]
  },
  {
   "cell_type": "markdown",
   "metadata": {},
   "source": [
    "### 1.2.2 Funkcja kosztu"
   ]
  },
  {
   "cell_type": "markdown",
   "metadata": {},
   "source": [
    "**Na początku jednak należy zastanowić się ile wynosi taki błąd i jak go obliczyć** <br>\n",
    "Najbardziej oczywiste rozwiązanie **Odejmij wyjście algorytmu od oczekiwanego wyjścia** czyli **MSE**"
   ]
  },
  {
   "cell_type": "markdown",
   "metadata": {},
   "source": [
    "![title](imgs/mse.png)"
   ]
  },
  {
   "cell_type": "markdown",
   "metadata": {},
   "source": [
    "Aktualnie jesteśmy w stanie obliczyć globalny błąd dla całego modelu, jednak interesuję nas obliczenie błędu, który pochodzi z konkretnej \"wagi\"/\"gałęzi\". Aby to uzyskać możemy wykorzystać regułę łańcuchową."
   ]
  },
  {
   "cell_type": "markdown",
   "metadata": {},
   "source": [
    "![title](imgs/e_total.png)"
   ]
  },
  {
   "cell_type": "markdown",
   "metadata": {},
   "source": [
    "![title](imgs/backprop_model.png)"
   ]
  },
  {
   "cell_type": "markdown",
   "metadata": {},
   "source": [
    "**1. Pierwsza pochodna** <br>\n",
    "W pierwszym kroku obliczamy pochodną po funkcji kosztów."
   ]
  },
  {
   "cell_type": "markdown",
   "metadata": {},
   "source": [
    "![title](imgs/der1.png)"
   ]
  },
  {
   "cell_type": "markdown",
   "metadata": {},
   "source": [
    "**2. Druga pochodna** <br>\n",
    "Następnie liczymy pochodną po funkcji aktywacji"
   ]
  },
  {
   "cell_type": "markdown",
   "metadata": {},
   "source": [
    "![title](imgs/der2.png)"
   ]
  },
  {
   "cell_type": "markdown",
   "metadata": {},
   "source": [
    "*Łatwo również dostrzec w tym przypadku dlaczego funkcja Sigmoid nie jest najlepszą funkcją aktywacji*"
   ]
  },
  {
   "cell_type": "markdown",
   "metadata": {},
   "source": [
    "**3. Trzecia pochodna** <br>\n",
    "W kroku trzecimy liczymy pochodną po *\"wyjściu z poprzedniej warstwy\"*. "
   ]
  },
  {
   "cell_type": "markdown",
   "metadata": {},
   "source": [
    "![title](imgs/der3.png)"
   ]
  },
  {
   "cell_type": "markdown",
   "metadata": {},
   "source": [
    "**Wszystko w jednym ! W końcu !**"
   ]
  },
  {
   "cell_type": "markdown",
   "metadata": {},
   "source": [
    "![title](imgs/concat.png)"
   ]
  },
  {
   "cell_type": "code",
   "execution_count": 10,
   "metadata": {},
   "outputs": [],
   "source": [
    "# w = np.random.normal(0., 10, (3,))\n",
    "\n",
    "def forward(w, x):\n",
    "    result = np.dot(w, x)\n",
    "    return sigmoid(result)\n",
    "\n",
    "def backward(w, x, prev_out):\n",
    "    error = (expected - prev_out)\n",
    "    error_final = (expected - prev_out) * prev_out * (1 - prev_out)\n",
    "    errors.append(error)\n",
    "    w += eta * error_final * x\n",
    "    \n",
    "for i in range(n):\n",
    "    x, expected = random.choice(training_data)\n",
    "    prev_out = forward(w, x)\n",
    "    backward(w, x, prev_out)"
   ]
  },
  {
   "cell_type": "markdown",
   "metadata": {},
   "source": [
    "### 1.2.3 Cross-entropy"
   ]
  },
  {
   "cell_type": "markdown",
   "metadata": {},
   "source": [
    "Powyżej przedstawiona funkcja kosztu **MSE** jest bardzo łatwą do obliczenia funkcją, jednak wykorzystanie jej sprawdza się tylko wyjątkowo dobrze w przypadku **zadania regresji**, dla zadania klasyfikacji metoda ta może prowadzić do występowania szumu oraz zanikania gradientu."
   ]
  },
  {
   "cell_type": "markdown",
   "metadata": {},
   "source": [
    "![title](imgs/cross_entr.png)"
   ]
  },
  {
   "cell_type": "markdown",
   "metadata": {},
   "source": [
    "#### Przykład wykorzystanie Cross entropy i MSE"
   ]
  },
  {
   "cell_type": "markdown",
   "metadata": {},
   "source": [
    "![title](imgs/tabl1.png)"
   ]
  },
  {
   "cell_type": "markdown",
   "metadata": {},
   "source": [
    "*Funkcja kosztu dla powyższej sieci neuronowej wynosi 1/3 = 0.33*"
   ]
  },
  {
   "cell_type": "markdown",
   "metadata": {},
   "source": [
    "![title](imgs/table2.png)"
   ]
  },
  {
   "cell_type": "markdown",
   "metadata": {},
   "source": [
    "*Funkcja kosztu dla powyższej sieci neuronowej również wynosi 1/3 = 0.33*"
   ]
  },
  {
   "cell_type": "markdown",
   "metadata": {},
   "source": [
    "Druga sieć jednak zachowuję się w bardziej porządany sposób niż sieć pierwsza, w dwóch pierwszych przypadkach cechuję się bardzo dobrymi wynikami, gdzie w trzecim przypadku niewiele się myli."
   ]
  },
  {
   "cell_type": "markdown",
   "metadata": {},
   "source": [
    "Rozważmy entropię krzyżową jako funkcję kosztu"
   ]
  },
  {
   "cell_type": "markdown",
   "metadata": {},
   "source": [
    "**Entropia krzyżowa dla pierwszej sieci** <br>\n",
    "-(ln(0.4) + ln(0.4) + ln(0.1)) / 3 = 1.38 <br>\n",
    "**Entropia krzyżowa dla sieci drugiej** <br>\n",
    "-(ln(0.7) + ln(0.7) + ln(0.3)) / 3 = 0.64 <br>"
   ]
  },
  {
   "cell_type": "markdown",
   "metadata": {},
   "source": [
    "Oprócz różnicy czysto praktycznej entropia krzyżowa posiada swoje zalety z matematycznego punktu widzenia. <br>\n",
    "* Po pierwsze może być ona przedstawiona jako dywergencja **Kullback–Leibler'a** pomiędzy $P(Y | X)$ danych oraz $Q(Y | X)$ modelu,\n",
    "* Po drugie jej pochodna ma dużo bardziej sprzyjającą formę."
   ]
  },
  {
   "cell_type": "markdown",
   "metadata": {},
   "source": [
    "Wykorzystując **MSE** gradient posiada czynnik $output * (1 - output)$. Podczas gdy wyjście staje się coraz bardziej odobne do oczekiwanego wyjścia wartość gradientu staję się coraz mniejsza, przez co zmiany wag stają się stosunkowo coraz mniejsze. W **cross-entropy** czynnik ten zanika. "
   ]
  },
  {
   "cell_type": "markdown",
   "metadata": {},
   "source": [
    "#### Obliczanie gradientu dla entropii krzyżowej"
   ]
  },
  {
   "cell_type": "markdown",
   "metadata": {},
   "source": [
    "*Przeykładowy graf sieci wykorzystany w celu zwizualizowania oznaczeń wykorzystanych w równaniach*"
   ]
  },
  {
   "cell_type": "markdown",
   "metadata": {},
   "source": [
    "![title](imgs/cross_net.png)"
   ]
  },
  {
   "cell_type": "markdown",
   "metadata": {},
   "source": [
    "![title](imgs/layer_out_12.png)"
   ]
  },
  {
   "cell_type": "markdown",
   "metadata": {},
   "source": [
    "Następnie tak jak w przypadku **MSE** za pomocą chain rule liczymy pochodne"
   ]
  },
  {
   "cell_type": "markdown",
   "metadata": {},
   "source": [
    "![title](imgs/derivatives21.png)"
   ]
  },
  {
   "cell_type": "markdown",
   "metadata": {},
   "source": [
    "Łączymy wszystko razem"
   ]
  },
  {
   "cell_type": "markdown",
   "metadata": {},
   "source": [
    "![title](imgs/derivatives22.png)"
   ]
  },
  {
   "cell_type": "code",
   "execution_count": 27,
   "metadata": {},
   "outputs": [],
   "source": [
    "w = np.random.uniform(0, 1, size=(3,)).transpose()\n",
    "errors = []\n",
    "eta = 0.01\n",
    "n = 100000\n",
    "\n",
    "def forward(w, x):\n",
    "    logits = np.dot(w, x)\n",
    "    return sigmoid(logits)\n",
    "\n",
    "def backward(w, x, prev_layer_out):\n",
    "    error = expected * np.log(prev_layer_out) + (1 - expected) * np.log(1 - prev_layer_out)\n",
    "    error_final = (prev_layer_out - expected)\n",
    "    errors.append(-error)\n",
    "    w -= eta * error_final * x\n",
    "    \n",
    "for i in range(n):\n",
    "    x, expected = random.choice(training_data)\n",
    "    prev_layer_out = forward(w, x)\n",
    "    backward(w, x, prev_layer_out)"
   ]
  },
  {
   "cell_type": "markdown",
   "metadata": {},
   "source": [
    "## 1.3 Testowanie algorytmu"
   ]
  },
  {
   "cell_type": "markdown",
   "metadata": {},
   "source": [
    "Wyświetlamy obejty ze zbioru treningowego wraz z odpowiadającymi im wartościami wyjścia modelu."
   ]
  },
  {
   "cell_type": "code",
   "execution_count": 11,
   "metadata": {},
   "outputs": [
    {
     "name": "stdout",
     "output_type": "stream",
     "text": [
      "[0 0]: -5.00151845233 -> 0.0\n",
      "[0.2 0.2]: -3.67755424359 -> 0.0\n",
      "[0.4 0.4]: -2.35359003484 -> 0.0\n",
      "[0.4 0.2]: -3.0200795286 -> 0.0\n",
      "[0.2 0.4]: -3.01106474983 -> 0.0\n",
      "[0 1]: -1.66907098355 -> 0.0\n",
      "[1 0]: -1.71414487738 -> 0.0\n",
      "[1.2 1.2]: 2.94226680015 -> 1.0\n",
      "[1.4 1.4]: 4.2662310089 -> 1.0\n",
      "[1.4 1.2]: 3.59974151514 -> 1.0\n",
      "[1.2 1.4]: 3.60875629391 -> 1.0\n",
      "[1 1]: 1.6183025914 -> 1.0\n",
      "[1.1 1.1]: 2.28028469578 -> 1.0\n"
     ]
    }
   ],
   "source": [
    "for x, _ in training_data:\n",
    "    result = np.dot(x, w)\n",
    "    print(\"{}: {} -> {}\".format(x[:2], result, round(sigmoid(result))))"
   ]
  },
  {
   "cell_type": "markdown",
   "metadata": {},
   "source": [
    "Wyświetlamy błąd algorytmu dla rosnącej liczby epok."
   ]
  },
  {
   "cell_type": "code",
   "execution_count": 7,
   "metadata": {},
   "outputs": [
    {
     "data": {
      "text/plain": [
       "(-1, 1)"
      ]
     },
     "execution_count": 7,
     "metadata": {},
     "output_type": "execute_result"
    },
    {
     "data": {
      "image/png": "[encoded data removed]",
      "text/plain": [
       "<matplotlib.figure.Figure at 0x7f9b064fbf50>"
      ]
     },
     "metadata": {},
     "output_type": "display_data"
    }
   ],
   "source": [
    "fig = plt.figure()\n",
    "ax = fig.add_subplot(111)\n",
    "ax.plot(errors)\n",
    "ax.set_ylim([-1, 1])"
   ]
  },
  {
   "cell_type": "markdown",
   "metadata": {},
   "source": [
    "Rysunek przedstawia punkt ze zbioru danych na dwuwymairowej płaszczyźnie oraz wytyczoną przez algorytm granicę pełniącą funkcję separującą dla obszaru obu klas. Perceptron liniowy niestety zdolny jest tylko do separacji punktów będących linowo separowalne."
   ]
  },
  {
   "cell_type": "markdown",
   "metadata": {},
   "source": [
    "![title](imgs/linear_sep.png)"
   ]
  },
  {
   "cell_type": "markdown",
   "metadata": {},
   "source": [
    "**Ploting separation line for perceptron** <br>\n",
    "$slope = -\\frac{(w_0/w2)}{(w_0/w_1)}$  \n",
    "$intercept = -\\frac{w_0}{w_2}$"
   ]
  },
  {
   "cell_type": "markdown",
   "metadata": {},
   "source": [
    "![title](imgs/line.png)"
   ]
  },
  {
   "cell_type": "code",
   "execution_count": 12,
   "metadata": {},
   "outputs": [
    {
     "data": {
      "image/png": "[encoded data removed]",
      "text/plain": [
       "<matplotlib.figure.Figure at 0x7f9b04462dd0>"
      ]
     },
     "metadata": {},
     "output_type": "display_data"
    }
   ],
   "source": [
    "# Figure 2\n",
    "fig = plt.figure()\n",
    "ax = fig.add_subplot(111)\n",
    "plt.scatter([x[0][0] for x in training_data], [x[0][1] for x in training_data], c=[x[1] for x in training_data])\n",
    "line_scale = np.arange(0, 160) / 100.0\n",
    "lin_func = (w[1] / -w[0]) * line_scale + w[2] / -w[0]\n",
    "plt.plot(line_scale, lin_func, 'r')\n",
    "fig.savefig('scatter.png')"
   ]
  },
  {
   "cell_type": "code",
   "execution_count": null,
   "metadata": {},
   "outputs": [],
   "source": []
  }
 ],
 "metadata": {
  "kernelspec": {
   "display_name": "Python 2",
   "language": "python",
   "name": "python2"
  },
  "language_info": {
   "codemirror_mode": {
    "name": "ipython",
    "version": 2
   },
   "file_extension": ".py",
   "mimetype": "text/x-python",
   "name": "python",
   "nbconvert_exporter": "python",
   "pygments_lexer": "ipython2",
   "version": "2.7.12"
  }
 },
 "nbformat": 4,
 "nbformat_minor": 2
}
